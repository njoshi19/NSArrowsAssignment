{
 "cells": [
  {
   "cell_type": "code",
   "execution_count": 7,
   "metadata": {},
   "outputs": [
    {
     "name": "stdout",
     "output_type": "stream",
     "text": [
      "Enter Length Of Rectangle : 5.5\n",
      "Enter Breadth Of Rectangle :5.5\n",
      "\n",
      "It's Square. Length 5.5 And Breadth 5.5 are same.\n",
      "Thank You\n"
     ]
    }
   ],
   "source": [
    "# 1 Take values of length and breadth of a rectangle from user and check if it is square or not\n",
    "lengthof = 0.0\n",
    "breadthof = 0.0\n",
    "lengthof = float(input(\"Enter Length Of Rectangle : \"))\n",
    "breadthof = float(input(\"Enter Breadth Of Rectangle :\"))\n",
    "if(lengthof==breadthof):\n",
    "    print(\"\\nIt's Square. Length\",lengthof,\"And Breadth\",breadthof,\"are same.\")\n",
    "else:\n",
    "    print(\"\\nIt's Rectangle. Length\",lengthof,\"And Breadth\",breadthof,\"are not same\")\n",
    "print(\"Thank You\")"
   ]
  },
  {
   "cell_type": "code",
   "execution_count": 13,
   "metadata": {},
   "outputs": [
    {
     "name": "stdout",
     "output_type": "stream",
     "text": [
      "Enter Quantity (Units) :20\n",
      "Ordered Quantity: 20\n",
      "Discount Received: True\n",
      "Total Cost Before Discount : 2000\n",
      "Total Discount Received    : 200.0\n",
      "Final Cost To Pay : 1800.0\n"
     ]
    }
   ],
   "source": [
    "# 2 A shop will give discount of 10% if the cost of purchased quantity is more than 1000. \n",
    "#   Ask user for quantity. Suppose, one unit will cost 100. Judge and print total cost for user.\n",
    "discountrate=10\n",
    "totaldiscount=0\n",
    "unitcost=100\n",
    "unitquantity=0\n",
    "totalcost=0\n",
    "totalcostb4discount=0\n",
    "discountflag=False\n",
    "#\n",
    "unitquantity=int(input(\"Enter Quantity (Units) :\"))\n",
    "totalcost = unitquantity*unitcost\n",
    "totalcostb4discount=totalcost\n",
    "if(totalcost>1000):\n",
    "    discountflag=True\n",
    "    totaldiscount=(totalcost*discountrate)/100\n",
    "#\n",
    "totalcost=totalcost-totaldiscount\n",
    "print(\"Ordered Quantity:\",unitquantity)\n",
    "print(\"Discount Received:\",discountflag)\n",
    "if(discountflag):\n",
    "    print(\"Total Cost Before Discount :\",totalcostb4discount)\n",
    "    print(\"Total Discount Received    :\",totaldiscount)\n",
    "print(\"Final Cost To Pay :\",totalcost)"
   ]
  },
  {
   "cell_type": "code",
   "execution_count": 18,
   "metadata": {},
   "outputs": [
    {
     "name": "stdout",
     "output_type": "stream",
     "text": [
      "Enter No Of Years Service :4.99\n",
      "Employee Served Less Than 5 Years, So Not Eligible For Bonus\n",
      "Thank You\n"
     ]
    }
   ],
   "source": [
    "# 3 A company decided to give bonus of 5% to employee if his/her year of service is more than 5 years.\n",
    "#   Ask user for their salary and year of service and print the net bonus amount.\n",
    "bonusrate=5\n",
    "yearofservice=0.0\n",
    "salary=0\n",
    "bonusreceived=False\n",
    "bonusamount=0\n",
    "yearofservice=float(input(\"Enter No Of Years Service :\"))\n",
    "if(yearofservice>5.0):\n",
    "    bonusreceived=True\n",
    "    salary=int(input(\"Enter Current Salary :\"))\n",
    "    bonusamount=(salary*5)/100\n",
    "    print(\"Employee Served Years :\",yearofservice)\n",
    "    print(\"Employee Current Salary :\",salary)\n",
    "    print(\"Employee Received Bonus :\",int(bonusamount))\n",
    "else:\n",
    "    print(\"Employee Served Less Than 5 Years, So Not Eligible For Bonus\")\n",
    "print(\"Thank You\")"
   ]
  },
  {
   "cell_type": "code",
   "execution_count": 21,
   "metadata": {},
   "outputs": [
    {
     "name": "stdout",
     "output_type": "stream",
     "text": [
      "Enter Student's Name :nitin\n",
      "Enter Marks Obtained in Maths\n",
      "55\n",
      "Enter Marks Obtained in Science\n",
      "65\n",
      "Enter Marks Obtained in English\n",
      "76\n",
      "Best Of Luck\n",
      "Student : nitin\n",
      "['Maths', 'Science', 'English']\n",
      "[55, 65, 76]\n",
      "['C', 'B', 'B']\n"
     ]
    }
   ],
   "source": [
    "# 4 A school has following rules for grading system: \n",
    "# a. Below 25 - F // # b. 25 to 45 - E \n",
    "# c. 45 to 50 - D // # d. 50 to 60 - C \n",
    "# e. 60 to 80 - B // # f. Above 80 – A \n",
    "# Ask user to enter marks and print the corresponding grade.\n",
    "subjectlist=[\"Maths\",\"Science\",\"English\"]\n",
    "subjectmarks=[0,0,0]\n",
    "subjectgrades=[\"\",\"\",\"\"]\n",
    "gradeobtained=\"\"\n",
    "subject=\"\"\n",
    "indexno=i=0\n",
    "studentname = input(\"Enter Student's Name :\")\n",
    "for i in subjectlist:\n",
    "    subject=i\n",
    "    print(\"Enter Marks Obtained in\",subject)\n",
    "    marksobtained = int(input())\n",
    "    if(marksobtained<25):\n",
    "        gradeobtained=\"F\"\n",
    "    elif marksobtained>=25 and marksobtained<=45:\n",
    "        gradeobtained=\"E\"\n",
    "    elif marksobtained>45 and marksobtained<=50:\n",
    "        gradeobtained=\"D\"\n",
    "    elif marksobtained>50 and marksobtained<=60:\n",
    "        gradeobtained=\"C\"\n",
    "    elif marksobtained>60 and marksobtained<=80:\n",
    "        gradeobtained=\"B\"\n",
    "    else:\n",
    "        gradeobtained=\"A\"\n",
    "    subjectmarks[indexno]=marksobtained\n",
    "    subjectgrades[indexno]=gradeobtained\n",
    "    indexno=indexno+1\n",
    "print(\"Best Of Luck\")\n",
    "print(\"Student :\",studentname)\n",
    "print(subjectlist)\n",
    "print(subjectmarks)\n",
    "print(subjectgrades)\n",
    "#print(\"Student :\",studentname)\n",
    "#print(\"Subject :\",subject)\n",
    "#print(\"Marks   :\",marksobtained)\n",
    "#print(\"Grade   :\",gradeobtained)"
   ]
  },
  {
   "cell_type": "code",
   "execution_count": 15,
   "metadata": {
    "scrolled": true
   },
   "outputs": [
    {
     "name": "stdout",
     "output_type": "stream",
     "text": [
      "Enter Student's Name :Nitin Joshi\n",
      "Enter Marks Obtained in Maths 90\n",
      "Enter Marks Obtained in Science 80\n",
      "Enter Marks Obtained in English 70\n",
      "Student : Nitin Joshi\n",
      "Subject :\t Maths \t Science \t English\n",
      "Marks   :\t 90 \t 80 \t 70\n",
      "Grade   :\t A \t B \t B\n",
      "Percent :\t 80.0 %\n",
      " ~ Congratulations & Best Of Luck Child ~\n"
     ]
    }
   ],
   "source": [
    "# 4 A school has following rules for grading system: \n",
    "# a. Below 25 - F // # b. 25 to 45 - E \n",
    "# c. 45 to 50 - D // # d. 50 to 60 - C \n",
    "# e. 60 to 80 - B // # f. Above 80 – A \n",
    "# Ask user to enter marks and print the corresponding grade.\n",
    "\n",
    "subjectlist=[\"Maths\",\"Science\",\"English\"]\n",
    "subjectmarks=[0,0,0]\n",
    "subjectgrades=[\"\",\"\",\"\"]\n",
    "gradeobtained=\"\"\n",
    "subject=\"\"\n",
    "indexno=i=0\n",
    "percent=0.0\n",
    "studentname = input(\"Enter Student's Name :\")\n",
    "for i in subjectlist:\n",
    "    subject=i\n",
    "    print(\"Enter Marks Obtained in\",subject,end=\" \")\n",
    "    marksobtained = int(input())\n",
    "    if(marksobtained<25):\n",
    "        gradeobtained=\"F\"\n",
    "    elif marksobtained>=25 and marksobtained<=45:\n",
    "        gradeobtained=\"E\"\n",
    "    elif marksobtained>45 and marksobtained<=50:\n",
    "        gradeobtained=\"D\"\n",
    "    elif marksobtained>50 and marksobtained<=60:\n",
    "        gradeobtained=\"C\"\n",
    "    elif marksobtained>60 and marksobtained<=80:\n",
    "        gradeobtained=\"B\"\n",
    "    else:\n",
    "        gradeobtained=\"A\"\n",
    "    subjectmarks[indexno]=marksobtained\n",
    "    subjectgrades[indexno]=gradeobtained\n",
    "    percent=percent+marksobtained\n",
    "    indexno=indexno+1\n",
    "#\n",
    "percent=percent/indexno\n",
    "print(\"Student :\",studentname)\n",
    "i=0\n",
    "print(\"Subject :\\t\",subjectlist[i],\"\\t\",subjectlist[i+1],\"\\t\",subjectlist[i+2])\n",
    "print(\"Marks   :\\t\",subjectmarks[i],\"\\t\",subjectmarks[i+1],\"\\t\",subjectmarks[i+2])\n",
    "print(\"Grade   :\\t\",subjectgrades[i],\"\\t\",subjectgrades[i+1],\"\\t\",subjectgrades[i+2])\n",
    "print(\"Percent :\\t\",percent,\"%\")\n",
    "print(\" ~ Congratulations & Best Of Luck Child ~\")"
   ]
  },
  {
   "cell_type": "code",
   "execution_count": 30,
   "metadata": {},
   "outputs": [
    {
     "name": "stdout",
     "output_type": "stream",
     "text": [
      "Student Name :n\n",
      "Enter Classes Held :201\n",
      "Enter Classes Attended :151\n",
      "n , you are Eligible for appearing Exam as your attendance is 75.0%\n",
      "Thank You\n"
     ]
    }
   ],
   "source": [
    "# 5 A student will not be allowed to sit in exam if his/her attendance is less than 75%.\n",
    "# Take following input from user \n",
    "# Number of classes held \n",
    "# Number of classes attended. \n",
    "# And print \n",
    "# percentage of class attended \n",
    "# Is student is allowed to sit in exam or not. \n",
    "classesheld=0\n",
    "classessattended=0\n",
    "percentattended=0.0\n",
    "studentname=\"\"\n",
    "studentname=input(\"Student Name :\")\n",
    "classesheld=int(float(input(\"Enter Classes Held :\")))\n",
    "classesattended=int(float(input(\"Enter Classes Attended :\")))\n",
    "percentattended=round((classesattended/classesheld)*100,0)\n",
    "if(percentattended>=75):\n",
    "    print(studentname,\", you are Eligible for appearing Exam as your attendance is\",percentattended,\"\\b%\")\n",
    "else:\n",
    "    print(studentname,\", Sorry, your attendance is lower,\",percentattended,\"\\b% only, which is less than our criteria of 75%\")\n",
    "print(\"Thank You\")"
   ]
  },
  {
   "cell_type": "code",
   "execution_count": 60,
   "metadata": {},
   "outputs": [
    {
     "name": "stdout",
     "output_type": "stream",
     "text": [
      "Student Name :Nitin\n",
      "Enter Classes Held :100\n",
      "Enter Classes Attended :66\n",
      "Any valid medical reason for skipping classes (Yes/No)n\n",
      "Nitin , Sorry, your attendance is lower, 66.0% only, which is less than our criteria of 75%\n",
      "Thank You\n"
     ]
    }
   ],
   "source": [
    "# 6 Modify the above question to allow student to sit if he/she has medical cause.\n",
    "# Ask user if he/she has medical cause or not ( 'Y' or 'N' ) and print accordingly. \n",
    "medicalcause=False\n",
    "medicalreason=\"\"\n",
    "classesheld=0\n",
    "classessattended=0\n",
    "percentattended=0.0\n",
    "studentname=\"\"\n",
    "studentname=input(\"Student Name :\")\n",
    "classesheld=int(float(input(\"Enter Classes Held :\")))\n",
    "classesattended=int(float(input(\"Enter Classes Attended :\")))\n",
    "percentattended=round((classesattended/classesheld)*100,0)\n",
    "#\n",
    "if(percentattended>=75):\n",
    "    print(studentname,\", you are Eligible for appearing Exam as your attendance is\",percentattended,\"\\b%\")\n",
    "else:\n",
    "    medicalreason=input(\"Any valid medical reason for skipping classes (Yes/No)\")\n",
    "    if(medicalreason==\"Y\" or medicalreason==\"Yes\" or medicalreason==\"YES\" or medicalreason==\"yes\" or medicalreason==\"y\"):\n",
    "        medicalcause=True\n",
    "    if(medicalcause):\n",
    "        print(studentname,\", you are Eligible for appearing Exam on medical ground\")\n",
    "    else:\n",
    "        print(studentname,\", Sorry, your attendance is lower,\",percentattended,\"\\b% only, which is less than our criteria of 75%\")\n",
    "print(\"Thank You\")"
   ]
  },
  {
   "cell_type": "code",
   "execution_count": 63,
   "metadata": {},
   "outputs": [
    {
     "name": "stdout",
     "output_type": "stream",
     "text": [
      "Enter Integer Value :10\n",
      "Sum : 10 Average : 10.0 Value Entered : 1\n",
      "Enter Integer Value :20\n",
      "Sum : 30 Average : 15.0 Value Entered : 2\n",
      "Enter Integer Value :30\n",
      "Sum : 60 Average : 20.0 Value Entered : 3\n",
      "Enter Integer Value :40\n",
      "Sum : 100 Average : 25.0 Value Entered : 4\n",
      "Enter Integer Value :50\n",
      "Sum : 150 Average : 30.0 Value Entered : 5\n",
      "Enter Integer Value :60\n",
      "Sum : 210 Average : 35.0 Value Entered : 6\n",
      "Enter Integer Value :70\n",
      "Sum : 280 Average : 40.0 Value Entered : 7\n",
      "Enter Integer Value :80\n",
      "Sum : 360 Average : 45.0 Value Entered : 8\n",
      "Enter Integer Value :90\n",
      "Sum : 450 Average : 50.0 Value Entered : 9\n",
      "Enter Integer Value :100\n",
      "Sum : 550 Average : 55.0 Value Entered : 10\n",
      "Thank You\n"
     ]
    }
   ],
   "source": [
    "# 7 Take 10 integers from keyboard using loop and print their average value on the screen. \n",
    "list1=[0,0,0,0,0,0,0,0,0,0]\n",
    "entnum=0\n",
    "sum=0\n",
    "list1avg=0.0\n",
    "indexno=i=0\n",
    "for i in list1:\n",
    "    entnum=int(input(\"Enter Integer Value :\"))\n",
    "    list1[indexno]=entnum\n",
    "    sum=sum+entnum\n",
    "    indexno=indexno+1\n",
    "    list1avg=round(sum/indexno,2)\n",
    "    print(\"Sum :\",sum,\"Average :\",list1avg,\"Value Entered :\",indexno)\n",
    "print(\"Thank You\")\n",
    "    \n",
    "    "
   ]
  },
  {
   "cell_type": "code",
   "execution_count": 33,
   "metadata": {},
   "outputs": [
    {
     "name": "stdout",
     "output_type": "stream",
     "text": [
      " \n",
      "*  \n",
      "* *  \n",
      "* * *  \n",
      "* * * *  \n",
      "* * * * *  \n",
      "* * * * * *  \n",
      "8b\n"
     ]
    }
   ],
   "source": [
    "# 8 Print the following patterns using loop : \n",
    "# 8a. \n",
    "# * \n",
    "# ** \n",
    "# *** \n",
    "# **** \n",
    "spacing=patternlevels=level=num=0  \n",
    "#patternlevels=int(input(\"Enter Number Of Levels For Creating Pattern :\"))\n",
    "rows=patternlevels=7\n",
    "#m = (2 * patternlevels) - 2\n",
    "for i in range(0, patternlevels):\n",
    "    for j in range(i):\n",
    "        print(\"*\", end=' ')\n",
    "    print(\" \")\n",
    "print(\"8b\")\n",
    "#  * \n",
    "# *** \n",
    "#***** \n",
    "# *** \n",
    "#  * "
   ]
  },
  {
   "cell_type": "code",
   "execution_count": 17,
   "metadata": {},
   "outputs": [
    {
     "name": "stdout",
     "output_type": "stream",
     "text": [
      "Enter Number To Find Factorial :4\n",
      "Factorial ->  4!= 24\n",
      "Thank You\n"
     ]
    }
   ],
   "source": [
    "# 9 Factorial of any number n is represented by n! and is equal to 1*2*3*....*(n-1)*n. E.g.- \n",
    "# 4! = 1*2*3*4 = 24 \n",
    "# 3! = 3*2*1 = 6 \n",
    "# 2! = 2*1 = 2 \n",
    "# Also, \n",
    "# 1! = 1 \n",
    "# 0! = 1 \n",
    "# Write a program to calculate factorial of a number.\n",
    "calfact=1\n",
    "factnum=0\n",
    "factnum=int(float(input(\"Enter Number To Find Factorial :\")))\n",
    "if(factnum>0):\n",
    "    for i in range(factnum,0,-1):\n",
    "        calfact=calfact*i\n",
    "    print(\"Factorial -> \",factnum,\"\\b!=\",\"\\b\",calfact)\n",
    "else:\n",
    "    print(\"No Factorial For -ve Numbers\")\n",
    "print(\"Thank You\")"
   ]
  },
  {
   "cell_type": "code",
   "execution_count": 95,
   "metadata": {},
   "outputs": [
    {
     "name": "stdout",
     "output_type": "stream",
     "text": [
      "13\n",
      "10\n",
      "20\n",
      "30\n",
      "40\n",
      "40\n",
      "50\n",
      "60\n",
      "70\n",
      "80\n",
      "80\n",
      "90\n",
      "90\n",
      "100\n",
      "Another Way -> Element No 0 List Value : 10\n",
      "Another Way -> Element No 1 List Value : 20\n",
      "Another Way -> Element No 2 List Value : 30\n",
      "Another Way -> Element No 3 List Value : 40\n",
      "Another Way -> Element No 4 List Value : 40\n",
      "Another Way -> Element No 5 List Value : 50\n",
      "Another Way -> Element No 6 List Value : 60\n",
      "Another Way -> Element No 7 List Value : 70\n",
      "Another Way -> Element No 8 List Value : 80\n",
      "Another Way -> Element No 9 List Value : 80\n",
      "Another Way -> Element No 10 List Value : 90\n",
      "Another Way -> Element No 11 List Value : 90\n",
      "Another Way -> Element No 12 List Value : 100\n",
      "Thank You\n"
     ]
    }
   ],
   "source": [
    "# 10 Print all elements of a list using for loop.\n",
    "list1=[10,20,30,40,40,50,60,70,80,80,90,90,100]\n",
    "lenlist1=len(list1)\n",
    "print(lenlist1)\n",
    "#One Way\n",
    "for i in list1:\n",
    "    print(i)\n",
    "#Another Way\n",
    "for i in range(0,lenlist1):\n",
    "    print(\"Another Way -> Element No\",i,\"List Value :\",list1[i])\n",
    "print(\"Thank You\")"
   ]
  },
  {
   "cell_type": "code",
   "execution_count": 106,
   "metadata": {},
   "outputs": [
    {
     "name": "stdout",
     "output_type": "stream",
     "text": [
      "Enter Number To Calculate Sum :9999\n",
      "Final Sum : 49995000\n"
     ]
    }
   ],
   "source": [
    "#11. Accept number from user and calculate the sum of all number from 1 to a given number using for loop \n",
    "acceptnumber=0\n",
    "sum=0\n",
    "acceptnumber=int(float(input(\"Enter Number To Calculate Sum :\")))\n",
    "for i in range (1,acceptnumber+1):\n",
    "    sum = sum+i\n",
    "#    print(sum,i,acceptnumber)\n",
    "print(\"Final Sum :\",sum)\n"
   ]
  },
  {
   "cell_type": "code",
   "execution_count": 37,
   "metadata": {},
   "outputs": [
    {
     "name": "stdout",
     "output_type": "stream",
     "text": [
      "Number : 1234567890\n",
      "Length : 10\n"
     ]
    }
   ],
   "source": [
    "#12 Given a number count the total number of digits in a number \n",
    "num1=1234567890\n",
    "print(\"Number :\",num1)\n",
    "num1len=len(str(num1))\n",
    "print(\"Length :\",num1len)"
   ]
  },
  {
   "cell_type": "code",
   "execution_count": 62,
   "metadata": {},
   "outputs": [
    {
     "name": "stdout",
     "output_type": "stream",
     "text": [
      "[50, 40, 30, 20, 10]\n"
     ]
    }
   ],
   "source": [
    "#13 Reverse the following list using for loop. list1=[10, 20, 30, 40, 50] \n",
    "list1=[10,20,30,40,50]\n",
    "list2=[]\n",
    "lenlist1=len(list1)\n",
    "for i in range(lenlist1,0,-1):\n",
    "    list2.append(list1[i-1])\n",
    "print(list2)"
   ]
  },
  {
   "cell_type": "code",
   "execution_count": 63,
   "metadata": {},
   "outputs": [
    {
     "name": "stdout",
     "output_type": "stream",
     "text": [
      "-10\n",
      "-9\n",
      "-8\n",
      "-7\n",
      "-6\n",
      "-5\n",
      "-4\n",
      "-3\n",
      "-2\n",
      "-1\n"
     ]
    }
   ],
   "source": [
    "#14. Display numbers from -10 to -1 using for loop \n",
    "for i in range(-10,0,1):\n",
    "    print(i)"
   ]
  },
  {
   "cell_type": "code",
   "execution_count": 72,
   "metadata": {},
   "outputs": [
    {
     "name": "stdout",
     "output_type": "stream",
     "text": [
      "Cube Of :10.1\n",
      "Cube Of  10.1 : 1030.301\n",
      "Cube Of  10 : 1000\n"
     ]
    }
   ],
   "source": [
    "#15. Display the cube of the number up to a given integer\n",
    "cubeof=float(input(\"Cube Of :\"))\n",
    "print(\"Cube Of \",cubeof,\":\",cubeof**3)\n",
    "cubeof=int(cubeof)\n",
    "print(\"Cube Of \",cubeof,\":\",cubeof**3)"
   ]
  }
 ],
 "metadata": {
  "kernelspec": {
   "display_name": "Python 3",
   "language": "python",
   "name": "python3"
  },
  "language_info": {
   "codemirror_mode": {
    "name": "ipython",
    "version": 3
   },
   "file_extension": ".py",
   "mimetype": "text/x-python",
   "name": "python",
   "nbconvert_exporter": "python",
   "pygments_lexer": "ipython3",
   "version": "3.7.3"
  }
 },
 "nbformat": 4,
 "nbformat_minor": 2
}
