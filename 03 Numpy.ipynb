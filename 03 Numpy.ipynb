{
 "cells": [
  {
   "cell_type": "code",
   "execution_count": null,
   "metadata": {},
   "outputs": [],
   "source": [
    "#Q1 Create an empty 3x3 matrix and then fill it with a value 2. Display both the empty and filled matrices.\n",
    "import numpy as np\n",
    "emptyarrwithzeros=np.zeros([3,3])\n",
    "print(\"3x3 Array With np.zeros \\n\",emptyarrwithzeros)\n",
    "emptyarrwithempty=np.empty([3,3])\n",
    "print(\"3x3 Array with np.empty \\n\",emptyarrwithempty)\n",
    "#\n",
    "# Assign value 2 to each element\n",
    "#"
   ]
  },
  {
   "cell_type": "code",
   "execution_count": null,
   "metadata": {},
   "outputs": [],
   "source": [
    "#Q2. Write a program to test each element if they are complex number, real number of a given array. \n",
    "#Also test whether a given number is a scalar type or not"
   ]
  },
  {
   "cell_type": "code",
   "execution_count": null,
   "metadata": {},
   "outputs": [],
   "source": [
    "#Q3. Write a program to create a 4x4 array with random values, \n",
    "#now create a new array from the same array by swapping first and last rows"
   ]
  },
  {
   "cell_type": "code",
   "execution_count": 4,
   "metadata": {},
   "outputs": [
    {
     "name": "stdout",
     "output_type": "stream",
     "text": [
      "[[ 8  8  8]\n",
      " [15 15 15]]\n"
     ]
    }
   ],
   "source": [
    "#Q4. Write a program to multiply two given arrays of the same size element-by-element.\n",
    "import numpy as np\n",
    "array1=np.array([[2,2,2],[3,3,3]])\n",
    "array2=np.array([[4,4,4],[5,5,5]])\n",
    "multi=np.multiply(array1,array2)\n",
    "print(multi)"
   ]
  },
  {
   "cell_type": "code",
   "execution_count": 7,
   "metadata": {},
   "outputs": [
    {
     "name": "stdout",
     "output_type": "stream",
     "text": [
      "1 <class 'numpy.ndarray'>\n",
      "[11 12 13 14 15]\n"
     ]
    }
   ],
   "source": [
    "#Q5. Write a program to get all the unique elements of an array.\n",
    "array=[11,11,12,12,13,13,14,14,15]\n",
    "array=np.array(array)\n",
    "print(array.ndim,type(array))\n",
    "uniq=np.unique(array)\n",
    "print(uniq)"
   ]
  },
  {
   "cell_type": "code",
   "execution_count": 8,
   "metadata": {},
   "outputs": [
    {
     "name": "stdout",
     "output_type": "stream",
     "text": [
      "[ 1 11 22 33 44 55 66 77 88]\n"
     ]
    }
   ],
   "source": [
    "#Q6. Write a program to find the union of two arrays.\n",
    "#Union will return the unique, sorted array of values that are in either of the two input arrays.\n",
    "array1=[1,11,22,44,66,88]\n",
    "array2=[11,33,44,55,77]\n",
    "array1=np.array(array1)\n",
    "array2=np.array(array2)\n",
    "uniarr=np.union1d(array1,array2)\n",
    "print(uniarr)\n",
    "\n"
   ]
  },
  {
   "cell_type": "code",
   "execution_count": 5,
   "metadata": {},
   "outputs": [
    {
     "name": "stdout",
     "output_type": "stream",
     "text": [
      "area : [6 6 6]\n",
      "<class 'numpy.ndarray'>\n",
      "1\n",
      "Volume : [6 6 6]\n",
      "<class 'numpy.ndarray'>\n",
      "1\n"
     ]
    }
   ],
   "source": [
    "#Q7. Create 2 arrays of size 5\n",
    "#a. for length\n",
    "#b. for breadth\n",
    "#calculate the area and volume of the rectangle. Also calculate the variance and standard deviation.\n",
    "import numpy as np\n",
    "a=np.array([2,2,2])\n",
    "b=np.array([3,3,3])\n",
    "h=np.array([1,1,1])\n",
    "area=np.multiply(a,b)\n",
    "print(\"area :\",area)\n",
    "print(type(area))\n",
    "print(area.ndim)\n",
    "volume=np.multiply(a,b,h)\n",
    "print(\"Volume :\",volume)\n",
    "print(type(volume))\n",
    "print(volume.ndim)\n"
   ]
  },
  {
   "cell_type": "code",
   "execution_count": null,
   "metadata": {},
   "outputs": [],
   "source": []
  }
 ],
 "metadata": {
  "kernelspec": {
   "display_name": "Python 3",
   "language": "python",
   "name": "python3"
  },
  "language_info": {
   "codemirror_mode": {
    "name": "ipython",
    "version": 3
   },
   "file_extension": ".py",
   "mimetype": "text/x-python",
   "name": "python",
   "nbconvert_exporter": "python",
   "pygments_lexer": "ipython3",
   "version": "3.7.3"
  }
 },
 "nbformat": 4,
 "nbformat_minor": 2
}
