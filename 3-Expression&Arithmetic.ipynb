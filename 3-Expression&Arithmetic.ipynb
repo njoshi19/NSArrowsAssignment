{
 "cells": [
  {
   "cell_type": "code",
   "execution_count": 2,
   "metadata": {},
   "outputs": [
    {
     "name": "stdout",
     "output_type": "stream",
     "text": [
      "Please enter a number: 10\n",
      "Please enter another number: 10\n",
      "10 + 10 = 20\n",
      "20\n"
     ]
    }
   ],
   "source": [
    "#3.1 Adder\n",
    "value1 = int(input('Please enter a number: '))\n",
    "value2 = int(input('Please enter another number: '))\n",
    "sum = value1 + value2\n",
    "print(value1, '+', value2, '=', sum)\n",
    "\n"
   ]
  },
  {
   "cell_type": "code",
   "execution_count": 8,
   "metadata": {},
   "outputs": [
    {
     "name": "stdout",
     "output_type": "stream",
     "text": [
      "x= 20 Y= 10 \n",
      "x Type = <class 'int'> \n",
      "y Type = <class 'int'>\n",
      "x+y =  30\n",
      "x-y =  10\n",
      "x= Nitin Y= Joshi \n",
      "x Type = <class 'str'> \n",
      "y Type = <class 'str'>\n",
      "x+y =  NitinJoshi\n"
     ]
    }
   ],
   "source": [
    "x=20\n",
    "y=10\n",
    "print(\"x=\",x,\"Y=\",y,\"\\nx Type =\",type(x),\"\\ny Type =\",type(y))\n",
    "print(\"x+y = \",x+y)\n",
    "print(\"x-y = \",x-y)\n",
    "x=\"Nitin\"\n",
    "y=\"Joshi\"\n",
    "print(\"x=\",x,\"Y=\",y,\"\\nx Type =\",type(x),\"\\ny Type =\",type(y))\n",
    "print(\"x+y = \",x+y)\n",
    "# for string variable x and y, x-y operation not supported\n",
    "#print(\"x-y = \",x-y)"
   ]
  },
  {
   "cell_type": "code",
   "execution_count": 11,
   "metadata": {},
   "outputs": [
    {
     "name": "stdout",
     "output_type": "stream",
     "text": [
      "x= 20 Y= 10 \n",
      "x Type = <class 'int'> \n",
      "y Type = <class 'int'>\n",
      "x*y =  200\n",
      "x= Nitin Y= 5 \n",
      "x Type = <class 'str'> \n",
      "y Type = <class 'int'>\n",
      "x*y =  NitinNitinNitinNitinNitin\n",
      "x= 5 Y= Joshi \n",
      "x Type = <class 'int'> \n",
      "y Type = <class 'str'>\n",
      "x*y =  JoshiJoshiJoshiJoshiJoshi\n"
     ]
    }
   ],
   "source": [
    "x=20\n",
    "y=10\n",
    "print(\"x=\",x,\"Y=\",y,\"\\nx Type =\",type(x),\"\\ny Type =\",type(y))\n",
    "print(\"x*y = \",x*y)\n",
    "x=\"Nitin\"\n",
    "y=5\n",
    "print(\"x=\",x,\"Y=\",y,\"\\nx Type =\",type(x),\"\\ny Type =\",type(y))\n",
    "print(\"x*y = \",x*y)\n",
    "x=5\n",
    "y=\"Joshi\"\n",
    "print(\"x=\",x,\"Y=\",y,\"\\nx Type =\",type(x),\"\\ny Type =\",type(y))\n",
    "print(\"x*y = \",x*y)"
   ]
  },
  {
   "cell_type": "code",
   "execution_count": 28,
   "metadata": {},
   "outputs": [
    {
     "name": "stdout",
     "output_type": "stream",
     "text": [
      "x= 199 Y= 10 \n",
      "x Type = <class 'int'> \n",
      "y Type = <class 'int'>\n",
      "x/y =  19.9\n",
      "x//y =  19\n",
      "x%y =  9\n",
      "x( 5 )** y( 5 )=  5 5 3125\n"
     ]
    }
   ],
   "source": [
    "x=199\n",
    "y=10\n",
    "print(\"x=\",x,\"Y=\",y,\"\\nx Type =\",type(x),\"\\ny Type =\",type(y))\n",
    "print(\"x/y = \",x/y)\n",
    "print(\"x//y = \",x//y)\n",
    "print(\"x%y = \",x%y)\n",
    "x=5\n",
    "y=5\n",
    "print(\"x(\",x,\")** y(\",y,\")= \",x,y,x**y)"
   ]
  },
  {
   "cell_type": "code",
   "execution_count": 34,
   "metadata": {},
   "outputs": [
    {
     "name": "stdout",
     "output_type": "stream",
     "text": [
      "25 // 4 = 6\n",
      "25 % 4  = 1 \n",
      "4  % 25 = 4\n",
      "25 / 4  = 6.25 \n",
      "4  / 25 = 0.16\n"
     ]
    }
   ],
   "source": [
    "print(\"25 // 4 =\",25//4)\n",
    "print(\"25 % 4  =\",25%4,\"\\n4  % 25 =\",4%25)\n",
    "print(\"25 / 4  =\",25/4,\"\\n4  / 25 =\",4/25)"
   ]
  },
  {
   "cell_type": "code",
   "execution_count": 2,
   "metadata": {},
   "outputs": [
    {
     "name": "stdout",
     "output_type": "stream",
     "text": [
      "One =  1 One_Third =  0.3333333333333333 Zero = 1.1102230246251565e-16\n",
      "One - One Third = 0.6666666666666667\n",
      "First One - One Third = 0.3333333333333334\n",
      "Zero : Second One - One Third = 1.1102230246251565e-16\n"
     ]
    }
   ],
   "source": [
    "one = 1\n",
    "one_third = 1/3\n",
    "zero = one - one_third - one_third - one_third\n",
    "print(\"One = \",one,\"One_Third = \",one_third,\"Zero =\",zero)\n",
    "first_one_one_third = one - one_third\n",
    "print(\"One - One Third =\",first_one_one_third)\n",
    "second_one_one_third = first_one_one_third - one_third\n",
    "print(\"First One - One Third =\",second_one_one_third)\n",
    "third_one_one_third = second_one_one_third - one_third\n",
    "print(\"Zero : Second One - One Third =\",third_one_one_third)\n",
    "\n"
   ]
  },
  {
   "cell_type": "code",
   "execution_count": 3,
   "metadata": {},
   "outputs": [
    {
     "name": "stdout",
     "output_type": "stream",
     "text": [
      "One =  1 One_Tenth =  0.1 Zero = 1.3877787807814457e-16\n"
     ]
    }
   ],
   "source": [
    "# Statement followed with backslash \\ is sign of continuation of statement\n",
    "one = 1\n",
    "one_tenth = 1/10\n",
    "zero = one - one_tenth - one_tenth - one_tenth - one_tenth - one_tenth \\\n",
    "        - one_tenth - one_tenth - one_tenth - one_tenth - one_tenth\n",
    "print(\"One = \",one,\"One_Tenth = \",one_tenth,\"Zero =\",zero)"
   ]
  },
  {
   "cell_type": "code",
   "execution_count": 8,
   "metadata": {},
   "outputs": [
    {
     "name": "stdout",
     "output_type": "stream",
     "text": [
      "Enter Employee Id :10\n",
      "Year :20\n",
      "2037\n"
     ]
    }
   ],
   "source": [
    "# Python detects unmatched (, [, { in same line but found in next line is legal statement\n",
    "x=(int(input(\"Enter Employee Id :\"))\n",
    "   + (2007) + int(input(\"Year :\")))\n",
    "print(x)"
   ]
  },
  {
   "cell_type": "code",
   "execution_count": 9,
   "metadata": {
    "scrolled": true
   },
   "outputs": [
    {
     "name": "stdout",
     "output_type": "stream",
     "text": [
      "One :  1 One Fourth :  0.25 Zero :  0.0\n"
     ]
    }
   ],
   "source": [
    "#Floating Point Values\n",
    "one = 1\n",
    "one_fourth = 1/4\n",
    "zero = one - one_fourth- one_fourth- one_fourth- one_fourth\n",
    "print(\"One : \",one, \"One Fourth : \",one_fourth,\"Zero : \",zero)"
   ]
  },
  {
   "cell_type": "code",
   "execution_count": 10,
   "metadata": {},
   "outputs": [
    {
     "name": "stdout",
     "output_type": "stream",
     "text": [
      "x= 10 Type of x= <class 'int'>\n",
      "y= 10.5 Type of y= <class 'float'>\n",
      "sum= 20.5 Type of sum= <class 'float'>\n"
     ]
    }
   ],
   "source": [
    "#Mixed Type Expression\n",
    "x=10\n",
    "y=10.5\n",
    "sum=x+y\n",
    "print(\"x=\",x,\"Type of x=\",type(x))\n",
    "print(\"y=\",y,\"Type of y=\",type(y))\n",
    "print(\"sum=\",sum,\"Type of sum=\",type(sum))"
   ]
  },
  {
   "cell_type": "code",
   "execution_count": 12,
   "metadata": {},
   "outputs": [
    {
     "name": "stdout",
     "output_type": "stream",
     "text": [
      "14\n",
      "10\n"
     ]
    }
   ],
   "source": [
    "#Operator Precedence and Associativity\n",
    "#Multiplicative operators (*, /, //, and %) will have Precedence over additive operators (binary + and -)\n",
    "x=2+3*4\n",
    "print(x)\n",
    "x=2*3+4\n",
    "print(x)"
   ]
  },
  {
   "cell_type": "code",
   "execution_count": 13,
   "metadata": {},
   "outputs": [
    {
     "name": "stdout",
     "output_type": "stream",
     "text": [
      "46.0\n",
      "46.0\n"
     ]
    }
   ],
   "source": [
    "print(3 * x + 2 * y - 5)\n",
    "print(3 * x+2 * y-5)"
   ]
  },
  {
   "cell_type": "code",
   "execution_count": 2,
   "metadata": {},
   "outputs": [
    {
     "name": "stdout",
     "output_type": "stream",
     "text": [
      "Please enter two numbers to divide.\n",
      "Please enter the dividend: 100\n",
      "Please enter the divisor: 10\n",
      "100 / 10 = 10.0\n"
     ]
    }
   ],
   "source": [
    "# Auto Exit if divisor is zero with an error\n",
    "# Get two integers from the user\n",
    "print('Please enter two numbers to divide.')\n",
    "dividend = int(input('Please enter the dividend: '))\n",
    "divisor = int(input('Please enter the divisor: '))\n",
    "# Divide them and report the result\n",
    "print(dividend, '/', divisor, \"=\", dividend/divisor)"
   ]
  },
  {
   "cell_type": "code",
   "execution_count": 5,
   "metadata": {},
   "outputs": [
    {
     "name": "stdout",
     "output_type": "stream",
     "text": [
      "Enter the temperature in degrees F: 32\n",
      "32.0 degrees F = 0.0 degrees C\n"
     ]
    }
   ],
   "source": [
    "#Arithmatic Example - Degree Conversion\n",
    "#Prompt user for temperature to convert and read the supplied value\n",
    "#degree C = 5/9 * (F-32)\n",
    "degreesF = float(input('Enter the temperature in degrees F: '))\n",
    "# Perform the conversion\n",
    "degreesC = 5/9*(degreesF - 32)\n",
    "# Report the result\n",
    "print(degreesF, 'degrees F =', degreesC, 'degrees C')\n"
   ]
  },
  {
   "cell_type": "code",
   "execution_count": 28,
   "metadata": {},
   "outputs": [
    {
     "name": "stdout",
     "output_type": "stream",
     "text": [
      "Seconds To Convert In HH:MM:SS : 3740\n",
      "Seconds Entered Originally :  3740\n",
      "Converted - HH:MM:SS - 01:02:20\n"
     ]
    }
   ],
   "source": [
    "#Arithmatic Example - Time Conversion\n",
    "#Use of FLOOR, Modulus\n",
    "secondsentered = int(input(\"Seconds To Convert In HH:MM:SS : \"))\n",
    "seconds = secondsentered\n",
    "hours = seconds // 3600 # Considering 1 hour is 3600 seconds, using floor to get HOURs\n",
    "seconds = seconds % 3600 # Compute remaining seconds after accounting HOURs\n",
    "minutes = seconds // 60 # Considering 1 minute is 60 seconds, using floor to get MINUTEs\n",
    "seconds = seconds % 60 # Compute remaining seconds after accounting MINUTEs\n",
    "print(\"Seconds Entered Originally : \",secondsentered)\n",
    "if(hours<10):\n",
    "    hours=\"0\"+str(hours)\n",
    "else:\n",
    "    hours=str(hours)\n",
    "if(minutes<10):\n",
    "    minutes=\"0\"+str(minutes)\n",
    "else:\n",
    "    minutes=str(minutes)\n",
    "if(seconds<10):\n",
    "    seconds=\"0\"+str(seconds)\n",
    "else:\n",
    "    seconds=str(seconds)\n",
    "hhmmss = hours+\":\"+minutes+\":\"+seconds\n",
    "print(\"Converted - HH:MM:SS -\",hhmmss)"
   ]
  },
  {
   "cell_type": "code",
   "execution_count": 37,
   "metadata": {},
   "outputs": [
    {
     "name": "stdout",
     "output_type": "stream",
     "text": [
      "Please enter the number of seconds:5420\n",
      "1:30:20\n"
     ]
    }
   ],
   "source": [
    "# File enhancedtimeconv.py\n",
    "# Get the number of seconds\n",
    "seconds = int(input(\"Please enter the number of seconds:\"))\n",
    "hours = seconds // 3600 # 3600 seconds = 1 hours\n",
    "seconds = seconds % 3600\n",
    "minutes = seconds // 60 # 60 seconds = 1 minute\n",
    "seconds = seconds % 60\n",
    "# Report the results\n",
    "print(hours, \":\", sep=\"\", end=\"\")\n",
    "# Compute tens digit of minutes\n",
    "tens = minutes // 10\n",
    "# Compute ones digit of minutes\n",
    "ones = minutes % 10\n",
    "print(tens, ones, \":\", sep=\"\", end=\"\")\n",
    "# Compute tens digit of seconds\n",
    "tens = seconds // 10\n",
    "# Compute ones digit of seconds\n",
    "ones = seconds % 10\n",
    "print(tens, ones, sep =\"\")\n"
   ]
  },
  {
   "cell_type": "code",
   "execution_count": 35,
   "metadata": {},
   "outputs": [
    {
     "data": {
      "text/plain": [
       "3"
      ]
     },
     "execution_count": 35,
     "metadata": {},
     "output_type": "execute_result"
    }
   ],
   "source": [
    "5420//3600\n",
    "5420%3600\n",
    "(5420%3600)//60\n",
    "((5420%3600)//60)//10"
   ]
  },
  {
   "cell_type": "code",
   "execution_count": null,
   "metadata": {},
   "outputs": [],
   "source": []
  }
 ],
 "metadata": {
  "kernelspec": {
   "display_name": "Python 3",
   "language": "python",
   "name": "python3"
  },
  "language_info": {
   "codemirror_mode": {
    "name": "ipython",
    "version": 3
   },
   "file_extension": ".py",
   "mimetype": "text/x-python",
   "name": "python",
   "nbconvert_exporter": "python",
   "pygments_lexer": "ipython3",
   "version": "3.7.3"
  }
 },
 "nbformat": 4,
 "nbformat_minor": 2
}
