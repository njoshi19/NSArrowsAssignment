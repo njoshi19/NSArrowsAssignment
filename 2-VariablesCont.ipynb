{
 "cells": [
  {
   "cell_type": "code",
   "execution_count": 1,
   "metadata": {},
   "outputs": [
    {
     "name": "stdout",
     "output_type": "stream",
     "text": [
      "93.35\n"
     ]
    }
   ],
   "source": [
    "x=93.34836\n",
    "x=round(x,2)\n",
    "print(x)"
   ]
  },
  {
   "cell_type": "code",
   "execution_count": 2,
   "metadata": {},
   "outputs": [
    {
     "name": "stdout",
     "output_type": "stream",
     "text": [
      "x= 28\n",
      "y= 29\n"
     ]
    }
   ],
   "source": [
    "print(\"x=\",int(28.71))\n",
    "print(\"y=\",round(28.71))"
   ]
  },
  {
   "cell_type": "code",
   "execution_count": 3,
   "metadata": {},
   "outputs": [
    {
     "name": "stdout",
     "output_type": "stream",
     "text": [
      "Avogadro's number = 6.022e+23\n",
      "Speed of light = 299800000.0\n"
     ]
    }
   ],
   "source": [
    "avogadros_number = 6.022e23\n",
    "c = 2.998e8\n",
    "print(\"Avogadro's number =\", avogadros_number)\n",
    "print(\"Speed of light =\", c)"
   ]
  },
  {
   "cell_type": "code",
   "execution_count": 5,
   "metadata": {},
   "outputs": [
    {
     "name": "stdout",
     "output_type": "stream",
     "text": [
      "Round(x,3) =  28793.548\n",
      "Round(x,2) =  28793.55\n",
      "Round(x,1) =  28793.5\n",
      "Round(x,0) =  28794.0\n",
      "Round(x,-1) =  28790.0\n",
      "Round(x,-2) =  28800.0\n",
      "Round(x,-3) =  29000.0\n",
      "Round(x,3) =  65535\n",
      "Round(x,2) =  65535\n",
      "Round(x,1) =  65535\n",
      "Round(x,0) =  65535\n",
      "Round(x,-1) =  65540\n",
      "Round(x,-2) =  65500\n",
      "Round(x,-3) =  66000\n",
      "Round(x,-4) =  70000\n",
      "Round(x,-5) =  100000\n",
      "Round(x,-6) =  0\n"
     ]
    }
   ],
   "source": [
    "#round\n",
    "x = 28793.54836\n",
    "print(\"Round(x,3) = \",round(x,3))\n",
    "print(\"Round(x,2) = \",round(x,2))\n",
    "print(\"Round(x,1) = \",round(x,1))\n",
    "print(\"Round(x,0) = \",round(x,0))\n",
    "print(\"Round(x,-1) = \",round(x,-1))\n",
    "print(\"Round(x,-2) = \",round(x,-2))\n",
    "print(\"Round(x,-3) = \",round(x,-3))\n",
    "x = 65535\n",
    "print(\"Round(x,3) = \",round(x,3))\n",
    "print(\"Round(x,2) = \",round(x,2))\n",
    "print(\"Round(x,1) = \",round(x,1))\n",
    "print(\"Round(x,0) = \",round(x,0))\n",
    "print(\"Round(x,-1) = \",round(x,-1))\n",
    "print(\"Round(x,-2) = \",round(x,-2))\n",
    "print(\"Round(x,-3) = \",round(x,-3))\n",
    "print(\"Round(x,-4) = \",round(x,-4))\n",
    "print(\"Round(x,-5) = \",round(x,-5))\n",
    "print(\"Round(x,-6) = \",round(x,-6))\n"
   ]
  },
  {
   "cell_type": "code",
   "execution_count": 1,
   "metadata": {},
   "outputs": [
    {
     "name": "stdout",
     "output_type": "stream",
     "text": [
      "1 Backslash n i.e. Newline\n",
      "A\n",
      "B\n",
      "C\n",
      "2 Backslash t i.e. TABs A\tB\tC\n",
      "3 Backslash f i.e. Form Feed A\f",
      " B\f",
      " C\n",
      "4 Backslash a i.e. Alert/Beep A\u0007B\u0007C\n",
      "Understand Next Two Line - Backslash b i.e. Backspace\n",
      "5 Use of Backspace : A\bB\bC\n",
      "5 Use of Backspace : A \bB \bC\n"
     ]
    }
   ],
   "source": [
    "#2.9 special characters to control code\n",
    "# \\n = newline\n",
    "# \\t = tab\n",
    "# \\f = form feed (or page eject on printer)\n",
    "# \\a = alert (or bell)\n",
    "# \\b = backspace\n",
    "print(\"1 Backslash n i.e. Newline\\nA\\nB\\nC\")\n",
    "print(\"2 Backslash t i.e. TABs A\\tB\\tC\")\n",
    "print(\"3 Backslash f i.e. Form Feed A\\f B\\f C\")\n",
    "print(\"4 Backslash a i.e. Alert/Beep A\\aB\\aC\")\n",
    "print(\"Understand Next Two Line - Backslash b i.e. Backspace\")\n",
    "print(\"5 Use of Backspace : A\\bB\\bC\")\n",
    "print(\"5 Use of Backspace : A \\bB \\bC\")"
   ]
  },
  {
   "cell_type": "code",
   "execution_count": 14,
   "metadata": {},
   "outputs": [
    {
     "name": "stdout",
     "output_type": "stream",
     "text": [
      "Did you know that 'word' is a word?\n",
      "Did you know that \"word\" is a word?\n",
      "Did you know that 'word' is a word?\n",
      "Did you know that \"word\" is a word?\n"
     ]
    }
   ],
   "source": [
    "#escapequotes\n",
    "print(\"Did you know that 'word' is a word?\")\n",
    "print('Did you know that \"word\" is a word?')\n",
    "print('Did you know that \\'word\\' is a word?')\n",
    "print(\"Did you know that \\\"word\\\" is a word?\")\n"
   ]
  },
  {
   "cell_type": "code",
   "execution_count": 15,
   "metadata": {},
   "outputs": [
    {
     "name": "stdout",
     "output_type": "stream",
     "text": [
      "Enter Your Name : \n",
      "Nitin Joshi\n",
      "Name :  Nitin Joshi\n",
      "Type :  <class 'str'>\n"
     ]
    }
   ],
   "source": [
    "#input\n",
    "print(\"Enter Your Name : \")\n",
    "x=input()\n",
    "print(\"Name : \",x)\n",
    "print(\"Type : \",type(x))"
   ]
  },
  {
   "cell_type": "code",
   "execution_count": 16,
   "metadata": {},
   "outputs": [
    {
     "name": "stdout",
     "output_type": "stream",
     "text": [
      "ABC\n",
      "X\n",
      "Y\n",
      "Z\n"
     ]
    }
   ],
   "source": [
    "#printing examples\n",
    "print('A', end='')\n",
    "print('B', end='')\n",
    "print('C', end='')\n",
    "print()\n",
    "print('X')\n",
    "print('Y')\n",
    "print('Z')"
   ]
  },
  {
   "cell_type": "code",
   "execution_count": 17,
   "metadata": {},
   "outputs": [
    {
     "name": "stdout",
     "output_type": "stream",
     "text": [
      "10 15 20 25\n",
      "10,15,20,25\n",
      "10152025\n",
      "10:15:20:25\n",
      "10-----15-----20-----25\n"
     ]
    }
   ],
   "source": [
    "w, x, y, z = 10, 15, 20, 25\n",
    "print(w, x, y, z)\n",
    "print(w, x, y, z, sep=',')\n",
    "print(w, x, y, z, sep='')\n",
    "print(w, x, y, z, sep=':')\n",
    "print(w, x, y, z, sep='-----')\n"
   ]
  },
  {
   "cell_type": "code",
   "execution_count": 23,
   "metadata": {},
   "outputs": [
    {
     "name": "stdout",
     "output_type": "stream",
     "text": [
      "0 1\n",
      "1 10\n",
      "2 100\n",
      "3 1000\n",
      "4 10000\n",
      "5 100000\n",
      "6 1000000\n",
      "7 10000000\n",
      "8 100000000\n",
      "9 1000000000\n",
      "10 10000000000\n",
      "11 100000000000\n",
      "12 1000000000000\n",
      "13 10000000000000\n",
      "14 100000000000000\n",
      "15 1000000000000000\n",
      "0 1\n",
      "1 10\n",
      "2 100\n",
      "3 1000\n",
      "4 10000\n",
      "5 100000\n",
      "6 1000000\n",
      "7 10000000\n",
      "8 100000000\n",
      "9 1000000000\n",
      "10 10000000000\n",
      "11 100000000000\n",
      "12 1000000000000\n",
      "13 10000000000000\n",
      "14 100000000000000\n",
      "15 1000000000000000\n",
      "  0                1\n",
      "  1               10\n",
      "  2              100\n",
      "  3             1000\n",
      "  4            10000\n",
      "  5           100000\n",
      "  6          1000000\n",
      "  7         10000000\n",
      "  8        100000000\n",
      "  9       1000000000\n",
      " 10      10000000000\n",
      " 11     100000000000\n",
      " 12    1000000000000\n",
      " 13   10000000000000\n",
      " 14  100000000000000\n",
      " 15 1000000000000000\n"
     ]
    }
   ],
   "source": [
    "#powers printing\n",
    "print(0, 10**0)\n",
    "print(1, 10**1)\n",
    "print(2, 10**2)\n",
    "print(3, 10**3)\n",
    "print(4, 10**4)\n",
    "print(5, 10**5)\n",
    "print(6, 10**6)\n",
    "print(7, 10**7)\n",
    "print(8, 10**8)\n",
    "print(9, 10**9)\n",
    "print(10, 10**10)\n",
    "print(11, 10**11)\n",
    "print(12, 10**12)\n",
    "print(13, 10**13)\n",
    "print(14, 10**14)\n",
    "print(15, 10**15)\n",
    "print('{0} {1}'.format(0, 10**0))\n",
    "print('{0} {1}'.format(1, 10**1))\n",
    "print('{0} {1}'.format(2, 10**2))\n",
    "print('{0} {1}'.format(3, 10**3))\n",
    "print('{0} {1}'.format(4, 10**4))\n",
    "print('{0} {1}'.format(5, 10**5))\n",
    "print('{0} {1}'.format(6, 10**6))\n",
    "print('{0} {1}'.format(7, 10**7))\n",
    "print('{0} {1}'.format(8, 10**8))\n",
    "print('{0} {1}'.format(9, 10**9))\n",
    "print('{0} {1}'.format(10, 10**10))\n",
    "print('{0} {1}'.format(11, 10**11))\n",
    "print('{0} {1}'.format(12, 10**12))\n",
    "print('{0} {1}'.format(13, 10**13))\n",
    "print('{0} {1}'.format(14, 10**14))\n",
    "print('{0} {1}'.format(15, 10**15))\n",
    "print('{0:>3} {1:>16}'.format(0, 10**0))\n",
    "print('{0:>3} {1:>16}'.format(1, 10**1))\n",
    "print('{0:>3} {1:>16}'.format(2, 10**2))\n",
    "print('{0:>3} {1:>16}'.format(3, 10**3))\n",
    "print('{0:>3} {1:>16}'.format(4, 10**4))\n",
    "print('{0:>3} {1:>16}'.format(5, 10**5))\n",
    "print('{0:>3} {1:>16}'.format(6, 10**6))\n",
    "print('{0:>3} {1:>16}'.format(7, 10**7))\n",
    "print('{0:>3} {1:>16}'.format(8, 10**8))\n",
    "print('{0:>3} {1:>16}'.format(9, 10**9))\n",
    "print('{0:>3} {1:>16}'.format(10, 10**10))\n",
    "print('{0:>3} {1:>16}'.format(11, 10**11))\n",
    "print('{0:>3} {1:>16}'.format(12, 10**12))\n",
    "print('{0:>3} {1:>16}'.format(13, 10**13))\n",
    "print('{0:>3} {1:>16}'.format(14, 10**14))\n",
    "print('{0:>3} {1:>16}'.format(15, 10**15))\n"
   ]
  },
  {
   "cell_type": "code",
   "execution_count": null,
   "metadata": {},
   "outputs": [],
   "source": []
  }
 ],
 "metadata": {
  "kernelspec": {
   "display_name": "Python 3",
   "language": "python",
   "name": "python3"
  },
  "language_info": {
   "codemirror_mode": {
    "name": "ipython",
    "version": 3
   },
   "file_extension": ".py",
   "mimetype": "text/x-python",
   "name": "python",
   "nbconvert_exporter": "python",
   "pygments_lexer": "ipython3",
   "version": "3.7.3"
  }
 },
 "nbformat": 4,
 "nbformat_minor": 2
}
