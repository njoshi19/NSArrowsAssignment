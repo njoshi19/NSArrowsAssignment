{
  "nbformat": 4,
  "nbformat_minor": 0,
  "metadata": {
    "colab": {
      "name": "C513Mar22.ipynb",
      "provenance": [],
      "authorship_tag": "ABX9TyNvAGbqnVULs9o3ljWY6R/W",
      "include_colab_link": true
    },
    "kernelspec": {
      "name": "python3",
      "display_name": "Python 3"
    },
    "language_info": {
      "name": "python"
    }
  },
  "cells": [
    {
      "cell_type": "markdown",
      "metadata": {
        "id": "view-in-github",
        "colab_type": "text"
      },
      "source": [
        "<a href=\"https://colab.research.google.com/github/njoshi19/NSArrowsAssignment/blob/main/C513Mar22.ipynb\" target=\"_parent\"><img src=\"https://colab.research.google.com/assets/colab-badge.svg\" alt=\"Open In Colab\"/></a>"
      ]
    },
    {
      "cell_type": "markdown",
      "source": [
        "Numpay is Numerical Python\n",
        "Installing Numpy is necessary"
      ],
      "metadata": {
        "id": "DQEOvqAicvF0"
      }
    },
    {
      "cell_type": "code",
      "execution_count": null,
      "metadata": {
        "colab": {
          "base_uri": "https://localhost:8080/"
        },
        "id": "JsUQog_hcqCJ",
        "outputId": "39fc4d34-e221-4634-9b7b-8839a6317677"
      },
      "outputs": [
        {
          "output_type": "stream",
          "name": "stdout",
          "text": [
            "<class 'list'>\n",
            "[10, 20, 30, 40, 50]\n",
            "<class 'numpy.ndarray'>\n",
            "[10 20 30 40 50]\n"
          ]
        }
      ],
      "source": [
        "#Installing numpy\n",
        "import numpy as np\n",
        "pricelist=[10,20,30,40,50]\n",
        "print(type(pricelist))\n",
        "print(pricelist)\n",
        "pricearray=np.array(pricelist)\n",
        "print(type(pricearray))\n",
        "print(pricearray)"
      ]
    },
    {
      "cell_type": "code",
      "source": [
        "#Creating One Dimensional Array\n",
        "# np is library imported numpy\n",
        "# random (first) is random co\n",
        "np.random.random(size=10)"
      ],
      "metadata": {
        "colab": {
          "base_uri": "https://localhost:8080/"
        },
        "id": "3QF_oYkPfI54",
        "outputId": "b8eadd5a-3628-40c1-dadb-a7b0679105be"
      },
      "execution_count": null,
      "outputs": [
        {
          "output_type": "execute_result",
          "data": {
            "text/plain": [
              "array([0.90149974, 0.55983398, 0.64823746, 0.68577247, 0.04280349,\n",
              "       0.03821431, 0.2552519 , 0.10712727, 0.77763732, 0.51840047])"
            ]
          },
          "metadata": {},
          "execution_count": 5
        }
      ]
    },
    {
      "cell_type": "code",
      "source": [
        "np.random.rand(2,3)"
      ],
      "metadata": {
        "colab": {
          "base_uri": "https://localhost:8080/"
        },
        "id": "7Mff_sTdftG_",
        "outputId": "3fe38305-50a1-4c7c-9299-ba9d83ebaca1"
      },
      "execution_count": null,
      "outputs": [
        {
          "output_type": "execute_result",
          "data": {
            "text/plain": [
              "array([[0.09900407, 0.10178492, 0.17518762],\n",
              "       [0.15940027, 0.63001504, 0.31523072]])"
            ]
          },
          "metadata": {},
          "execution_count": 8
        }
      ]
    },
    {
      "cell_type": "code",
      "source": [
        "np.random.randn(2,3)"
      ],
      "metadata": {
        "colab": {
          "base_uri": "https://localhost:8080/"
        },
        "id": "NdX0J5JCg_Ys",
        "outputId": "4ffb82fa-b782-4262-fc7f-02b9fe97335d"
      },
      "execution_count": null,
      "outputs": [
        {
          "output_type": "execute_result",
          "data": {
            "text/plain": [
              "array([[ 1.12389461,  0.47972505,  0.96177584],\n",
              "       [ 0.01031524, -0.66102888, -0.60865496]])"
            ]
          },
          "metadata": {},
          "execution_count": 9
        }
      ]
    },
    {
      "cell_type": "code",
      "source": [
        "np.random.randint(5,15)"
      ],
      "metadata": {
        "colab": {
          "base_uri": "https://localhost:8080/"
        },
        "id": "ANC1P1ZKhDtx",
        "outputId": "335ee10e-d986-4ab2-be6b-1c81350284d0"
      },
      "execution_count": null,
      "outputs": [
        {
          "output_type": "execute_result",
          "data": {
            "text/plain": [
              "6"
            ]
          },
          "metadata": {},
          "execution_count": 11
        }
      ]
    },
    {
      "cell_type": "code",
      "source": [
        "np.random.randint(15,50,5)"
      ],
      "metadata": {
        "colab": {
          "base_uri": "https://localhost:8080/"
        },
        "id": "oLVNqCA7hZMs",
        "outputId": "b7849300-7fc0-4b0e-d9f0-482402b28363"
      },
      "execution_count": null,
      "outputs": [
        {
          "output_type": "execute_result",
          "data": {
            "text/plain": [
              "array([25, 28, 28, 49, 32])"
            ]
          },
          "metadata": {},
          "execution_count": 13
        }
      ]
    },
    {
      "cell_type": "code",
      "source": [
        "oddnums=np.arange(start=9,stop=99,step=2)\n",
        "print(oddnums)\n",
        "print(type(oddnums))"
      ],
      "metadata": {
        "colab": {
          "base_uri": "https://localhost:8080/"
        },
        "id": "gCLxU7bAhovh",
        "outputId": "4fb4991a-161c-48ca-c780-6863452ef1af"
      },
      "execution_count": null,
      "outputs": [
        {
          "output_type": "stream",
          "name": "stdout",
          "text": [
            "[ 9 11 13 15 17 19 21 23 25 27 29 31 33 35 37 39 41 43 45 47 49 51 53 55\n",
            " 57 59 61 63 65 67 69 71 73 75 77 79 81 83 85 87 89 91 93 95 97]\n",
            "<class 'numpy.ndarray'>\n"
          ]
        }
      ]
    },
    {
      "cell_type": "code",
      "source": [
        "nums=np.linspace(start=9,stop=99,num=10)\n",
        "print(nums)\n",
        "print(type(nums))"
      ],
      "metadata": {
        "colab": {
          "base_uri": "https://localhost:8080/"
        },
        "id": "NqWlAOodi7_D",
        "outputId": "d1010103-97eb-4eb8-d718-c197765c573b"
      },
      "execution_count": null,
      "outputs": [
        {
          "output_type": "stream",
          "name": "stdout",
          "text": [
            "[ 9. 19. 29. 39. 49. 59. 69. 79. 89. 99.]\n",
            "<class 'numpy.ndarray'>\n"
          ]
        }
      ]
    },
    {
      "cell_type": "code",
      "source": [
        "np.zeros(10)"
      ],
      "metadata": {
        "colab": {
          "base_uri": "https://localhost:8080/"
        },
        "id": "epLt5Dppj5GU",
        "outputId": "c07e8b45-af1b-4db1-be77-68df432b6595"
      },
      "execution_count": null,
      "outputs": [
        {
          "output_type": "execute_result",
          "data": {
            "text/plain": [
              "array([0., 0., 0., 0., 0., 0., 0., 0., 0., 0.])"
            ]
          },
          "metadata": {},
          "execution_count": 17
        }
      ]
    },
    {
      "cell_type": "code",
      "source": [
        "np.ones(10)"
      ],
      "metadata": {
        "colab": {
          "base_uri": "https://localhost:8080/"
        },
        "id": "l_hSHR7Ej_2R",
        "outputId": "337350d3-142c-4417-9b9d-5761c6a2e4b4"
      },
      "execution_count": null,
      "outputs": [
        {
          "output_type": "execute_result",
          "data": {
            "text/plain": [
              "array([1., 1., 1., 1., 1., 1., 1., 1., 1., 1.])"
            ]
          },
          "metadata": {},
          "execution_count": 18
        }
      ]
    },
    {
      "cell_type": "code",
      "source": [
        "matrix=np.empty((3,3),dtype=int)\n",
        "print(matrix)\n",
        "print(type(matrix))"
      ],
      "metadata": {
        "colab": {
          "base_uri": "https://localhost:8080/"
        },
        "id": "eEBPNT2jkCll",
        "outputId": "4513712e-9d20-4018-b5e6-2b4ba1fb5abd"
      },
      "execution_count": null,
      "outputs": [
        {
          "output_type": "stream",
          "name": "stdout",
          "text": [
            "[[     94022561510448                  41          4294967295]\n",
            " [3343197489899464494 7593682930701921379 8515877477639614823]\n",
            " [7237088288518385202 8315181416901143653                 116]]\n",
            "<class 'numpy.ndarray'>\n"
          ]
        }
      ]
    },
    {
      "cell_type": "code",
      "source": [
        "matrix=np.full((3,3),fill_value=15)\n",
        "print(matrix)"
      ],
      "metadata": {
        "colab": {
          "base_uri": "https://localhost:8080/"
        },
        "id": "EOZyXZCjkoyR",
        "outputId": "43fcc9c2-87a5-4c39-eaa6-f45602fbd26f"
      },
      "execution_count": null,
      "outputs": [
        {
          "output_type": "stream",
          "name": "stdout",
          "text": [
            "[[15 15 15]\n",
            " [15 15 15]\n",
            " [15 15 15]]\n"
          ]
        }
      ]
    },
    {
      "cell_type": "code",
      "source": [
        "matrix=np.identity(5)\n",
        "print(matrix)"
      ],
      "metadata": {
        "colab": {
          "base_uri": "https://localhost:8080/"
        },
        "id": "u39NrcoHloYF",
        "outputId": "116667d7-29ca-480f-bd60-ca86bac5d0dc"
      },
      "execution_count": null,
      "outputs": [
        {
          "output_type": "stream",
          "name": "stdout",
          "text": [
            "[[1. 0. 0. 0. 0.]\n",
            " [0. 1. 0. 0. 0.]\n",
            " [0. 0. 1. 0. 0.]\n",
            " [0. 0. 0. 1. 0.]\n",
            " [0. 0. 0. 0. 1.]]\n"
          ]
        }
      ]
    },
    {
      "cell_type": "code",
      "source": [
        "tools=np.array([(\"Screw Driver\",\"Scews\",\"Nuts\"),(150,10,23)])\n",
        "print(tools)\n",
        "print(\"Shape of the tool\",tools.shape)"
      ],
      "metadata": {
        "colab": {
          "base_uri": "https://localhost:8080/"
        },
        "id": "MhAt4ie1mdoL",
        "outputId": "c71367f8-99f0-4181-c8be-31acda60029e"
      },
      "execution_count": null,
      "outputs": [
        {
          "output_type": "stream",
          "name": "stdout",
          "text": [
            "[['Screw Driver' 'Scews' 'Nuts']\n",
            " ['150' '10' '23']]\n",
            "Shape of the tool (2, 3)\n"
          ]
        }
      ]
    },
    {
      "cell_type": "code",
      "source": [
        "prodweight=np.array([(1,2,3),(50,2.0,20.0)])\n",
        "print(prodweight)\n",
        "print(\"Type Of Elements In Arrary Is :\",type(prodweight))\n",
        "print(\"Type Of Elements In Arrary Is :\",prodweight.dtype)"
      ],
      "metadata": {
        "colab": {
          "base_uri": "https://localhost:8080/"
        },
        "id": "sSbs8x09nUMl",
        "outputId": "71c9c8c2-01fb-40b5-e6b0-eab9629efcf3"
      },
      "execution_count": null,
      "outputs": [
        {
          "output_type": "stream",
          "name": "stdout",
          "text": [
            "[[ 1.  2.  3.]\n",
            " [50.  2. 20.]]\n",
            "Type Of Elements In Arrary Is : <class 'numpy.ndarray'>\n",
            "Type Of Elements In Arrary Is : float64\n"
          ]
        }
      ]
    },
    {
      "cell_type": "code",
      "source": [
        "prodweight=np.array([(1,2,3),(50,2.0,20.0)])\n",
        "print(prodweight)\n",
        "print(\"Type Of Elements In Arrary Is :\",type(prodweight))\n",
        "print(\"Type Of Elements In Arrary Is :\",prodweight.ndim)"
      ],
      "metadata": {
        "colab": {
          "base_uri": "https://localhost:8080/"
        },
        "id": "dFHGOqPnomKY",
        "outputId": "4f9c5d45-f2fd-4108-e5a7-8986badce788"
      },
      "execution_count": null,
      "outputs": [
        {
          "output_type": "stream",
          "name": "stdout",
          "text": [
            "[[ 1.  2.  3.]\n",
            " [50.  2. 20.]]\n",
            "Type Of Elements In Arrary Is : <class 'numpy.ndarray'>\n",
            "Type Of Elements In Arrary Is : 2\n"
          ]
        }
      ]
    },
    {
      "cell_type": "code",
      "source": [
        "employee=np.array([(\"Adam\",19),(\"Steve\",21),(\"Mark\",18),(\"Thomas\",22)])\n",
        "print(employee)\n",
        "employeereshape=employee.reshape(8,1)\n",
        "print(\"\\n\")\n",
        "print(employeereshape)"
      ],
      "metadata": {
        "colab": {
          "base_uri": "https://localhost:8080/"
        },
        "id": "Bt1IMbz6p1-5",
        "outputId": "6be8db9c-923c-481b-8a17-ababa3122b2e"
      },
      "execution_count": null,
      "outputs": [
        {
          "output_type": "stream",
          "name": "stdout",
          "text": [
            "[['Adam' '19']\n",
            " ['Steve' '21']\n",
            " ['Mark' '18']\n",
            " ['Thomas' '22']]\n",
            "\n",
            "\n",
            "[['Adam']\n",
            " ['19']\n",
            " ['Steve']\n",
            " ['21']\n",
            " ['Mark']\n",
            " ['18']\n",
            " ['Thomas']\n",
            " ['22']]\n"
          ]
        }
      ]
    },
    {
      "cell_type": "code",
      "source": [
        "datascientists=np.array([(\"Adam\",19),(\"Steve\",21),(\"Mark\",18),(\"Thomas\",22)])\n",
        "print(\"First Element :\",datascientists[0])\n",
        "print(\"Last Element :\",datascientists[-1])\n",
        "print(\"Age of Data Scientist at index position 1:\",datascientists[1][1])\n",
        "print(\"Age of Data Scientist at index position Last :\",datascientists[-1][1])"
      ],
      "metadata": {
        "colab": {
          "base_uri": "https://localhost:8080/"
        },
        "id": "Z5RINjYKqlT5",
        "outputId": "622d541d-d3a6-4e08-de2a-5eadffd809a5"
      },
      "execution_count": null,
      "outputs": [
        {
          "output_type": "stream",
          "name": "stdout",
          "text": [
            "First Element : ['Adam' '19']\n",
            "Last Element : ['Thomas' '22']\n",
            "Age of Data Scientist at index position 1: 21\n",
            "Age of Data Scientist at index position Last : 22\n"
          ]
        }
      ]
    },
    {
      "cell_type": "code",
      "source": [
        "age=np.array([73,68,55.5,72,66])\n",
        "print(\"3rd and 4th element :\",age[2:4])\n",
        "print(\"Every 2nd Element :\",age[0::2])"
      ],
      "metadata": {
        "colab": {
          "base_uri": "https://localhost:8080/"
        },
        "id": "cyaTwsGJsIGP",
        "outputId": "382344e6-7977-47d7-f4c7-956ba3e4ddcf"
      },
      "execution_count": null,
      "outputs": [
        {
          "output_type": "stream",
          "name": "stdout",
          "text": [
            "3rd and 4th element : [55.5 72. ]\n",
            "Every 2nd Element : [73.  55.5 66. ]\n"
          ]
        }
      ]
    },
    {
      "cell_type": "code",
      "source": [
        "#Creating 2D Arrary\n",
        "weights=np.array([(74,55,68),(48,56,64)])\n",
        "print(\"Original Array :\",weights)\n",
        "print(\"\\n Elements in the first row and first two columns :\",weights[0,0:2])\n",
        "print(\"\\n Elements in the second row and last two columns :\",weights[1,1:])"
      ],
      "metadata": {
        "colab": {
          "base_uri": "https://localhost:8080/"
        },
        "id": "shiyWjXor9Rq",
        "outputId": "0ff5c381-7ffc-40c1-f818-da6b9b32384f"
      },
      "execution_count": null,
      "outputs": [
        {
          "output_type": "stream",
          "name": "stdout",
          "text": [
            "Original Array : [[74 55 68]\n",
            " [48 56 64]]\n",
            "\n",
            " Elements in the first row and first two columns : [74 55]\n",
            "\n",
            " Elements in the second row and last two columns : [56 64]\n"
          ]
        }
      ]
    },
    {
      "cell_type": "code",
      "source": [
        "#addition and substraction\n",
        "oddnum=np.array([3,5,7,9])\n",
        "evennum=np.array([8,12,22,10])\n",
        "print(\"Odd Nums\",oddnum)\n",
        "print(\"Even Nums\",evennum)\n",
        "sum=oddnum+evennum\n",
        "print(\"add value :\",sum)\n",
        "sub=oddnum-evennum\n",
        "print(\"subtracted value :\",sub)"
      ],
      "metadata": {
        "colab": {
          "base_uri": "https://localhost:8080/"
        },
        "id": "QKA7YSffulQe",
        "outputId": "0bef7918-b467-4a82-b9f4-c0a8f1662b90"
      },
      "execution_count": null,
      "outputs": [
        {
          "output_type": "stream",
          "name": "stdout",
          "text": [
            "Odd Nums [3 5 7 9]\n",
            "Even Nums [ 8 12 22 10]\n",
            "add value : [11 17 29 19]\n",
            "subtracted value : [ -5  -7 -15  -1]\n"
          ]
        }
      ]
    },
    {
      "cell_type": "code",
      "source": [
        "numarray=np.array([1,2,3,4,5])\n",
        "print(\"Product Result :\",numarray*5)"
      ],
      "metadata": {
        "colab": {
          "base_uri": "https://localhost:8080/"
        },
        "id": "gAgEV_ryxHDV",
        "outputId": "41ff7661-b698-491c-ba91-a36111e708d9"
      },
      "execution_count": null,
      "outputs": [
        {
          "output_type": "stream",
          "name": "stdout",
          "text": [
            "Product Result : [ 5 10 15 20 25]\n"
          ]
        }
      ]
    },
    {
      "cell_type": "code",
      "source": [
        "m1=np.array([[1,2,3],[4,-3,2]])\n",
        "m2=np.array([[4,0,1],[2,3,0]])\n",
        "print(m1)\n",
        "print(m2)\n",
        "prod=m1*m2\n",
        "print(\"Hadamard Product :\\n\",prod)"
      ],
      "metadata": {
        "colab": {
          "base_uri": "https://localhost:8080/"
        },
        "id": "op6qSpruxQzg",
        "outputId": "a6e32311-ad5c-43ba-ebe0-bae97d7fead2"
      },
      "execution_count": null,
      "outputs": [
        {
          "output_type": "stream",
          "name": "stdout",
          "text": [
            "[[ 1  2  3]\n",
            " [ 4 -3  2]]\n",
            "[[4 0 1]\n",
            " [2 3 0]]\n",
            "Hadamard Product :\n",
            " [[ 4  0  3]\n",
            " [ 8 -9  0]]\n"
          ]
        }
      ]
    },
    {
      "cell_type": "code",
      "source": [
        "m1=np.array([[1,2,3],[4,-3,2]])\n",
        "m2=np.array([[4,0],[1,2],[3,0]])\n",
        "print(m1)\n",
        "print(m2)\n",
        "prod=m1.dot(m2)\n",
        "print(prod)"
      ],
      "metadata": {
        "colab": {
          "base_uri": "https://localhost:8080/"
        },
        "id": "SHvw7ddxxzk6",
        "outputId": "88ce7aa0-87ef-4d62-d444-9d74cedeea1e"
      },
      "execution_count": null,
      "outputs": [
        {
          "output_type": "stream",
          "name": "stdout",
          "text": [
            "[[ 1  2  3]\n",
            " [ 4 -3  2]]\n",
            "[[4 0]\n",
            " [1 2]\n",
            " [3 0]]\n",
            "[[15  4]\n",
            " [19 -6]]\n"
          ]
        }
      ]
    },
    {
      "cell_type": "code",
      "source": [
        "salary=np.array([100000,20000,45000,85000,19000])\n",
        "print(\"Maxmimum Salary    \",max(salary))\n",
        "print(\"Minimum Salary     \",min(salary))\n",
        "print(\"Variance of Salary \",salary.var())\n",
        "print(\"Standard Deviation of the salaries \",salary.std())\n"
      ],
      "metadata": {
        "colab": {
          "base_uri": "https://localhost:8080/"
        },
        "id": "ZzFcWF72xwE5",
        "outputId": "7dcb4fe1-b72b-449e-ab28-48b15d5728f3"
      },
      "execution_count": null,
      "outputs": [
        {
          "output_type": "stream",
          "name": "stdout",
          "text": [
            "Maxmimum Salary     100000\n",
            "Minimum Salary      19000\n",
            "Variance of Salary  1107760000.0\n",
            "Standard Deviation of the salaries  33283.028708337224\n"
          ]
        }
      ]
    },
    {
      "cell_type": "code",
      "source": [
        "sides=np.array([10,5,20,25,30])\n",
        "print(\"Area of the square   :\",np.square(sides))\n",
        "print(\"Volume of the square :\",np.power(sides,3))\n",
        "\n"
      ],
      "metadata": {
        "colab": {
          "base_uri": "https://localhost:8080/"
        },
        "id": "w1946ius2MMW",
        "outputId": "fee7fb3a-d479-48c7-f2a0-8ccdc20b85e4"
      },
      "execution_count": null,
      "outputs": [
        {
          "output_type": "stream",
          "name": "stdout",
          "text": [
            "Area of the square   : [100  25 400 625 900]\n",
            "Volume of the square : [ 1000   125  8000 15625 27000]\n"
          ]
        }
      ]
    },
    {
      "cell_type": "code",
      "source": [
        "#Transposing - Very Important\n",
        "datascientists=np.array([(\"Adam\",19),(\"Steve\",21),(\"Mark\",18),(\"Thomas\",22)])\n",
        "print(\"\\n Original Matrix   :\\n\",datascientists)\n",
        "print(\"\\n Transposed Matrix :\\n\",np.transpose(datascientists))"
      ],
      "metadata": {
        "colab": {
          "base_uri": "https://localhost:8080/"
        },
        "id": "QKTSeUcQ4DK_",
        "outputId": "6ab3d28c-0d3d-459f-a3b2-6e31c8602b9c"
      },
      "execution_count": null,
      "outputs": [
        {
          "output_type": "stream",
          "name": "stdout",
          "text": [
            "\n",
            " Original Matrix   :\n",
            " [['Adam' '19']\n",
            " ['Steve' '21']\n",
            " ['Mark' '18']\n",
            " ['Thomas' '22']]\n",
            "\n",
            " Transposed Matrix :\n",
            " [['Adam' 'Steve' 'Mark' 'Thomas']\n",
            " ['19' '21' '18' '22']]\n"
          ]
        }
      ]
    },
    {
      "cell_type": "code",
      "source": [
        "from typing_extensions import Concatenate\n",
        "from numpy.core.multiarray import concatenate\n",
        "#Concatenation of matrices\n",
        "array1=np.array([1,2,3,4,5])\n",
        "array2=np.array([6,7,8,9,10,11,12])\n",
        "concatearray=np.concatenate([array1,array2])\n",
        "print(concatearray)\n",
        "employees=np.array([[\"Navin\",20],[\"Amey\",22],[\"Jessica\",30]])\n",
        "consultants=np.array([[\"Rajiv\",38],[\"Suresh\",35]])\n",
        "totalemp=np.concatenate([employees,consultants])\n",
        "print(totalemp)"
      ],
      "metadata": {
        "colab": {
          "base_uri": "https://localhost:8080/"
        },
        "id": "7QcQ1HyP4-hx",
        "outputId": "42ebb045-6cdf-43bb-f169-5e0358ca8590"
      },
      "execution_count": null,
      "outputs": [
        {
          "output_type": "stream",
          "name": "stdout",
          "text": [
            "[ 1  2  3  4  5  6  7  8  9 10 11 12]\n",
            "[['Navin' '20']\n",
            " ['Amey' '22']\n",
            " ['Jessica' '30']\n",
            " ['Rajiv' '38']\n",
            " ['Suresh' '35']]\n"
          ]
        }
      ]
    },
    {
      "cell_type": "code",
      "source": [
        "#Flattening Array\n",
        "numarray=np.array([[1,2,3,4],[5,6,7,8]])\n",
        "print(\"Original Array \\n\",numarray)\n",
        "print(\"Flattenend Array \\n\",np.ndarray.flatten(numarray))"
      ],
      "metadata": {
        "colab": {
          "base_uri": "https://localhost:8080/"
        },
        "id": "obtEzbIH6NnF",
        "outputId": "2d53b1e2-aae5-4a6e-ad0e-857931f176a6"
      },
      "execution_count": null,
      "outputs": [
        {
          "output_type": "stream",
          "name": "stdout",
          "text": [
            "Original Array \n",
            " [[1 2 3 4]\n",
            " [5 6 7 8]]\n",
            "Flattenend Array \n",
            " [1 2 3 4 5 6 7 8]\n"
          ]
        }
      ]
    },
    {
      "cell_type": "code",
      "source": [
        "menus=np.array([[\"Grilled Samosa\",\"Veg Salad\",\"Dal Makhani\"],[350,250,200]])\n",
        "print(\"The Array of Menu is \",menus.ndim,\"dimensional array \\n\")\n",
        "for menu in menus:\n",
        "  print(menu)"
      ],
      "metadata": {
        "colab": {
          "base_uri": "https://localhost:8080/"
        },
        "id": "zdE-Yuig8aO4",
        "outputId": "ce998a73-224b-4fa4-9135-22b528f44848"
      },
      "execution_count": null,
      "outputs": [
        {
          "output_type": "stream",
          "name": "stdout",
          "text": [
            "The Array of Menu is  2 dimensional array \n",
            "\n",
            "['Grilled Samosa' 'Veg Salad' 'Dal Makhani']\n",
            "['350' '250' '200']\n"
          ]
        }
      ]
    },
    {
      "cell_type": "code",
      "source": [
        "menus=np.array([[\"Grilled Samosa\",\"Veg Salad\",\"Dal Makhani\"],[350,250,200]])\n",
        "print(\"The Array of Menu is \",menus.ndim,\"dimensional array \\n\")\n",
        "for menu in menus:\n",
        "  for element in menu:\n",
        "    print(element)"
      ],
      "metadata": {
        "colab": {
          "base_uri": "https://localhost:8080/"
        },
        "id": "lTbAZYwf-XiZ",
        "outputId": "7d02b50d-c6c2-4e57-c772-7640d372b83e"
      },
      "execution_count": null,
      "outputs": [
        {
          "output_type": "stream",
          "name": "stdout",
          "text": [
            "The Array of Menu is  2 dimensional array \n",
            "\n",
            "Grilled Samosa\n",
            "Veg Salad\n",
            "Dal Makhani\n",
            "350\n",
            "250\n",
            "200\n"
          ]
        }
      ]
    }
  ]
}