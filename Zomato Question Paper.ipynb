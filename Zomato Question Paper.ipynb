{
 "cells": [
  {
   "cell_type": "markdown",
   "metadata": {
    "id": "Gc8x8QimJY_H"
   },
   "source": [
    "# Project Python Foundations: Zomato Data Analysis\n",
    "\n",
    "**Marks: 25**\n",
    "\n",
    "**Time: 2.5 Hours**"
   ]
  },
  {
   "cell_type": "markdown",
   "metadata": {
    "id": "NqikjkWwJY_L"
   },
   "source": [
    "### Context\n",
    "\n",
    "The number of restaurants in India is increasing day by day. Lots of students and busy professionals rely on those restaurants due to their hectic lifestyles. Online food delivery service is a great option for them. It provides them with good food from their favorite restaurants. A food aggregator company Zomato offers access to multiple restaurants through a single smartphone app.\n",
    "\n",
    "The app allows the restaurants to receive a direct online order from a customer. The app assigns a delivery person from the company to pick up the order after it is confirmed by the restaurant. The delivery person then uses the map to reach the restaurant and waits for the food package. Once the food package is handed over to the delivery person, he/she confirms the pick-up in the app and travels to the customer's location to deliver the food. The delivery person confirms the drop-off in the app after delivering the food package to the customer. The customer can rate the order in the app. The food aggregator earns money by collecting a fixed margin of the delivery order from the restaurants.\n",
    "\n",
    "### Objective\n",
    "\n",
    "The food aggregator company has stored the data of the different orders made by the registered customers in their online portal. They want to analyze the data to get a fair idea about the demand of different restaurants which will help them in enhancing their customer experience. Suppose you are hired as a Data Scientist in this company and the Data Science team has shared some of the key questions that need to be answered. Perform the data analysis to find answers to these questions that will help the company to improve the business. \n",
    "\n",
    "### Data Description\n",
    "\n",
    "The data contains the different data related to a food order. The detailed data dictionary is given below.\n",
    "\n",
    "### Data Dictionary\n",
    "\n",
    "* order_id: Unique ID of the order\n",
    "* customer_id: ID of the customer who ordered the food\n",
    "* restaurant_name: Name of the restaurant\n",
    "* cuisine_type: Cuisine ordered by the customer\n",
    "* cost: Cost of the order\n",
    "* day_of_the_week: Indicates whether the order is placed on a weekday or weekend (The weekday is from Monday to Friday and the weekend is Saturday and Sunday)\n",
    "* rating: Rating given by the customer out of 5\n",
    "* food_preparation_time: Time (in minutes) taken by the restaurant to prepare the food. This is calculated by taking the difference between the timestamps of the restaurant's order confirmation and the delivery person's pick-up confirmation.\n",
    "* delivery_time: Time (in minutes) taken by the delivery person to deliver the food package. This is calculated by taking the difference between the timestamps of the delivery person's pick-up confirmation and drop-off information"
   ]
  },
  {
   "cell_type": "markdown",
   "metadata": {
    "id": "cEtNUxNAJY_M"
   },
   "source": [
    "### Let us start by importing the required libraries"
   ]
  },
  {
   "cell_type": "code",
   "execution_count": null,
   "metadata": {
    "colab": {
     "base_uri": "https://localhost:8080/"
    },
    "executionInfo": {
     "elapsed": 3064,
     "status": "ok",
     "timestamp": 1650185837813,
     "user": {
      "displayName": "JENNY THE DANCER",
      "userId": "14831577012867467664"
     },
     "user_tz": -330
    },
    "id": "J1ELFWhLTgbY",
    "outputId": "4e8b5520-7d1d-4d6a-8316-4a3f09e60626"
   },
   "outputs": [
    {
     "name": "stdout",
     "output_type": "stream",
     "text": [
      "Drive already mounted at /gdrive; to attempt to forcibly remount, call drive.mount(\"/gdrive\", force_remount=True).\n",
      "/gdrive/My Drive/NSArrows\n"
     ]
    }
   ],
   "source": [
    "#Using Anaconda\n",
    "#So below code is #ed\n",
    "#\n",
    "#from google.colab import drive\n",
    "#drive.mount (\"/gdrive\")\n",
    "#\n",
    "#%cd /gdrive/My Drive/NSArrows/"
   ]
  },
  {
   "cell_type": "code",
   "execution_count": 1,
   "metadata": {
    "id": "u6PlpJAPJY_N"
   },
   "outputs": [],
   "source": [
    "# import libraries for data manipulation\n",
    "import numpy as np\n",
    "import pandas as pd\n",
    "\n",
    "# import libraries for data visualization\n",
    "import matplotlib.pyplot as plt\n",
    "import seaborn as sns"
   ]
  },
  {
   "cell_type": "markdown",
   "metadata": {
    "id": "AdracY0HJY_O"
   },
   "source": [
    "### Understanding the structure of the data"
   ]
  },
  {
   "cell_type": "code",
   "execution_count": 4,
   "metadata": {
    "colab": {
     "base_uri": "https://localhost:8080/",
     "height": 206
    },
    "executionInfo": {
     "elapsed": 1035,
     "status": "ok",
     "timestamp": 1650185884983,
     "user": {
      "displayName": "JENNY THE DANCER",
      "userId": "14831577012867467664"
     },
     "user_tz": -330
    },
    "id": "GF01IZDbJY_O",
    "outputId": "20bb4ddb-4457-4456-ded5-bd6882b8af9e",
    "scrolled": false
   },
   "outputs": [
    {
     "data": {
      "text/html": [
       "<div>\n",
       "<style scoped>\n",
       "    .dataframe tbody tr th:only-of-type {\n",
       "        vertical-align: middle;\n",
       "    }\n",
       "\n",
       "    .dataframe tbody tr th {\n",
       "        vertical-align: top;\n",
       "    }\n",
       "\n",
       "    .dataframe thead th {\n",
       "        text-align: right;\n",
       "    }\n",
       "</style>\n",
       "<table border=\"1\" class=\"dataframe\">\n",
       "  <thead>\n",
       "    <tr style=\"text-align: right;\">\n",
       "      <th></th>\n",
       "      <th>order_id</th>\n",
       "      <th>customer_id</th>\n",
       "      <th>restaurant_name</th>\n",
       "      <th>cuisine_type</th>\n",
       "      <th>cost_of_the_order</th>\n",
       "      <th>day_of_the_week</th>\n",
       "      <th>rating</th>\n",
       "      <th>food_preparation_time</th>\n",
       "      <th>delivery_time</th>\n",
       "    </tr>\n",
       "  </thead>\n",
       "  <tbody>\n",
       "    <tr>\n",
       "      <th>0</th>\n",
       "      <td>1477147</td>\n",
       "      <td>337525</td>\n",
       "      <td>Toast &amp; Tonic</td>\n",
       "      <td>Andhra</td>\n",
       "      <td>307.5</td>\n",
       "      <td>Weekend</td>\n",
       "      <td>Not given</td>\n",
       "      <td>25</td>\n",
       "      <td>20</td>\n",
       "    </tr>\n",
       "    <tr>\n",
       "      <th>1</th>\n",
       "      <td>1477685</td>\n",
       "      <td>358141</td>\n",
       "      <td>Bomra's Izakaya</td>\n",
       "      <td>Bengali</td>\n",
       "      <td>120.8</td>\n",
       "      <td>Weekend</td>\n",
       "      <td>Not given</td>\n",
       "      <td>25</td>\n",
       "      <td>23</td>\n",
       "    </tr>\n",
       "    <tr>\n",
       "      <th>2</th>\n",
       "      <td>1477070</td>\n",
       "      <td>66393</td>\n",
       "      <td>Gunpowder</td>\n",
       "      <td>Tamil</td>\n",
       "      <td>122.3</td>\n",
       "      <td>Weekday</td>\n",
       "      <td>5</td>\n",
       "      <td>23</td>\n",
       "      <td>28</td>\n",
       "    </tr>\n",
       "    <tr>\n",
       "      <th>3</th>\n",
       "      <td>1477334</td>\n",
       "      <td>106968</td>\n",
       "      <td>Mughal Mahal</td>\n",
       "      <td>Punjabi</td>\n",
       "      <td>292.0</td>\n",
       "      <td>Weekend</td>\n",
       "      <td>3</td>\n",
       "      <td>25</td>\n",
       "      <td>15</td>\n",
       "    </tr>\n",
       "    <tr>\n",
       "      <th>4</th>\n",
       "      <td>1478249</td>\n",
       "      <td>76942</td>\n",
       "      <td>Toast &amp; Tonic</td>\n",
       "      <td>Punjabi</td>\n",
       "      <td>115.9</td>\n",
       "      <td>Weekday</td>\n",
       "      <td>4</td>\n",
       "      <td>25</td>\n",
       "      <td>24</td>\n",
       "    </tr>\n",
       "  </tbody>\n",
       "</table>\n",
       "</div>"
      ],
      "text/plain": [
       "   order_id  customer_id  restaurant_name cuisine_type  cost_of_the_order  \\\n",
       "0   1477147       337525    Toast & Tonic       Andhra              307.5   \n",
       "1   1477685       358141  Bomra's Izakaya      Bengali              120.8   \n",
       "2   1477070        66393        Gunpowder        Tamil              122.3   \n",
       "3   1477334       106968     Mughal Mahal      Punjabi              292.0   \n",
       "4   1478249        76942    Toast & Tonic      Punjabi              115.9   \n",
       "\n",
       "  day_of_the_week     rating  food_preparation_time  delivery_time  \n",
       "0         Weekend  Not given                     25             20  \n",
       "1         Weekend  Not given                     25             23  \n",
       "2         Weekday          5                     23             28  \n",
       "3         Weekend          3                     25             15  \n",
       "4         Weekday          4                     25             24  "
      ]
     },
     "execution_count": 4,
     "metadata": {},
     "output_type": "execute_result"
    }
   ],
   "source": [
    "# read the data\n",
    "df = pd.read_csv(r\"C:\\Users\\njoshi3\\Desktop\\DS POC\\Zomato_order.csv\")\n",
    "\n",
    "# returns the first 5 rows\n",
    "df.head()"
   ]
  },
  {
   "cell_type": "markdown",
   "metadata": {
    "id": "J_Y9aJDJJY_P"
   },
   "source": [
    "#### Observations:\n",
    "\n",
    "The DataFrame has 9 columns as mentioned in the Data Dictionary. Data in each row corresponds to the order placed by a customer."
   ]
  },
  {
   "cell_type": "markdown",
   "metadata": {
    "id": "c3kenV4vJY_Q"
   },
   "source": [
    "### **Question 1:** Write the code to check the shape of the dataset and write your observations based on that. (0.5 mark)"
   ]
  },
  {
   "cell_type": "code",
   "execution_count": 5,
   "metadata": {
    "colab": {
     "base_uri": "https://localhost:8080/"
    },
    "executionInfo": {
     "elapsed": 363,
     "status": "ok",
     "timestamp": 1650186290015,
     "user": {
      "displayName": "JENNY THE DANCER",
      "userId": "14831577012867467664"
     },
     "user_tz": -330
    },
    "id": "Yvz5i-PhJY_Q",
    "outputId": "b0c93177-eafb-42e2-9b47-25f7db927331"
   },
   "outputs": [
    {
     "data": {
      "text/plain": [
       "(1898, 9)"
      ]
     },
     "execution_count": 5,
     "metadata": {},
     "output_type": "execute_result"
    }
   ],
   "source": [
    "# Write your code here\n",
    "df.shape"
   ]
  },
  {
   "cell_type": "markdown",
   "metadata": {
    "id": "UsTNy3unJY_R"
   },
   "source": [
    "#### Observations:#\n",
    "Shape of Zometo has 1898 rows and 9 columns.\n"
   ]
  },
  {
   "cell_type": "markdown",
   "metadata": {
    "id": "jRXakVrUJY_R"
   },
   "source": [
    "### Question 2: Write the observations based on the below output from the info() method. (0.5 mark)"
   ]
  },
  {
   "cell_type": "code",
   "execution_count": 6,
   "metadata": {
    "colab": {
     "base_uri": "https://localhost:8080/"
    },
    "executionInfo": {
     "elapsed": 3,
     "status": "ok",
     "timestamp": 1650186297395,
     "user": {
      "displayName": "JENNY THE DANCER",
      "userId": "14831577012867467664"
     },
     "user_tz": -330
    },
    "id": "Kp70Z0BNJY_R",
    "outputId": "042d1713-751d-4e31-bcfd-b3a08d619a6e"
   },
   "outputs": [
    {
     "name": "stdout",
     "output_type": "stream",
     "text": [
      "<class 'pandas.core.frame.DataFrame'>\n",
      "RangeIndex: 1898 entries, 0 to 1897\n",
      "Data columns (total 9 columns):\n",
      "order_id                 1898 non-null int64\n",
      "customer_id              1898 non-null int64\n",
      "restaurant_name          1898 non-null object\n",
      "cuisine_type             1898 non-null object\n",
      "cost_of_the_order        1898 non-null float64\n",
      "day_of_the_week          1898 non-null object\n",
      "rating                   1898 non-null object\n",
      "food_preparation_time    1898 non-null int64\n",
      "delivery_time            1898 non-null int64\n",
      "dtypes: float64(1), int64(4), object(4)\n",
      "memory usage: 133.5+ KB\n"
     ]
    }
   ],
   "source": [
    "# Use info() to print a concise summary of the DataFrame\n",
    "df.info()"
   ]
  },
  {
   "cell_type": "markdown",
   "metadata": {
    "id": "WJes5GP2JY_S"
   },
   "source": [
    "#### Observations:\n",
    "Order_Id, Customer_Id, Food_Preparation Time and Delivery_Time are integers\n",
    "Restaurant_Name, Cuisine_TYpe, Day_of_the_week and rating are object type\n",
    "cost_of_the_order is float\n",
    "1898 rows shows that it has all non-null but rating is NOT GIVEN in many rows which should be BLANK to treat as NULL\n",
    "Memory usage is 133.5+kb."
   ]
  },
  {
   "cell_type": "markdown",
   "metadata": {
    "id": "pF_92MN6JY_S"
   },
   "source": [
    "### Question 3: 'restaurant_name', 'cuisine_type', 'day_of_the_week' are object types. Write the code to convert the mentioned features to 'category' and write your observations on the same. (0.5 mark)"
   ]
  },
  {
   "cell_type": "code",
   "execution_count": 64,
   "metadata": {
    "colab": {
     "base_uri": "https://localhost:8080/"
    },
    "executionInfo": {
     "elapsed": 359,
     "status": "ok",
     "timestamp": 1650187163237,
     "user": {
      "displayName": "JENNY THE DANCER",
      "userId": "14831577012867467664"
     },
     "user_tz": -330
    },
    "id": "Zth-RR1PJY_S",
    "outputId": "28707d1f-a41b-4124-df42-f6e0615f16a9"
   },
   "outputs": [
    {
     "name": "stdout",
     "output_type": "stream",
     "text": [
      "<class 'pandas.core.frame.DataFrame'>\n",
      "RangeIndex: 1898 entries, 0 to 1897\n",
      "Data columns (total 9 columns):\n",
      "order_id                 1898 non-null int64\n",
      "customer_id              1898 non-null int64\n",
      "restaurant_name          1898 non-null object\n",
      "cuisine_type             1898 non-null object\n",
      "cost_of_the_order        1898 non-null float64\n",
      "day_of_the_week          1898 non-null object\n",
      "rating                   1898 non-null object\n",
      "food_preparation_time    1898 non-null int64\n",
      "delivery_time            1898 non-null int64\n",
      "dtypes: float64(1), int64(4), object(4)\n",
      "memory usage: 133.5+ KB\n",
      "<class 'pandas.core.frame.DataFrame'>\n",
      "RangeIndex: 1898 entries, 0 to 1897\n",
      "Data columns (total 9 columns):\n",
      "order_id                 1898 non-null int64\n",
      "customer_id              1898 non-null int64\n",
      "restaurant_name          1898 non-null category\n",
      "cuisine_type             1898 non-null category\n",
      "cost_of_the_order        1898 non-null float64\n",
      "day_of_the_week          1898 non-null category\n",
      "rating                   1898 non-null object\n",
      "food_preparation_time    1898 non-null int64\n",
      "delivery_time            1898 non-null int64\n",
      "dtypes: category(3), float64(1), int64(4), object(1)\n",
      "memory usage: 97.0+ KB\n"
     ]
    }
   ],
   "source": [
    "# Coverting \"objects\" to \"category\" reduces the data space required to store the dataframe\n",
    "# write the code to convert 'restaurant_name', 'cuisine_type', 'day_of_the_week' into categorical data\n",
    "# Use info() to print a concise summary of the DataFrame\n",
    "df.info()\n",
    "df = df.astype({\"restaurant_name\":'category',\"cuisine_type\":'category',\"day_of_the_week\":'category'})\n",
    "df.info()"
   ]
  },
  {
   "cell_type": "markdown",
   "metadata": {
    "id": "jDHT3vD1JY_S"
   },
   "source": [
    "#### Observations: \n",
    "Memory usage reduced from 133.6+kb to 96.8+kb.\n"
   ]
  },
  {
   "cell_type": "markdown",
   "metadata": {
    "id": "MnJo7MWrJY_S"
   },
   "source": [
    "### **Question 4:** Write the code to find the summary statistics and write your observations based on that. (1 mark)"
   ]
  },
  {
   "cell_type": "code",
   "execution_count": 20,
   "metadata": {
    "colab": {
     "base_uri": "https://localhost:8080/",
     "height": 300
    },
    "executionInfo": {
     "elapsed": 624,
     "status": "ok",
     "timestamp": 1650187588933,
     "user": {
      "displayName": "JENNY THE DANCER",
      "userId": "14831577012867467664"
     },
     "user_tz": -330
    },
    "id": "WprQBgOSJY_T",
    "outputId": "a164fe8f-e578-4715-a5cb-670a6f367456"
   },
   "outputs": [
    {
     "name": "stdout",
     "output_type": "stream",
     "text": [
      "<class 'pandas.core.frame.DataFrame'>\n",
      "RangeIndex: 1898 entries, 0 to 1897\n",
      "Data columns (total 9 columns):\n",
      "order_id                 1898 non-null int64\n",
      "customer_id              1898 non-null int64\n",
      "restaurant_name          1898 non-null object\n",
      "cuisine_type             1898 non-null object\n",
      "cost_of_the_order        1898 non-null float64\n",
      "day_of_the_week          1898 non-null object\n",
      "rating                   1898 non-null object\n",
      "food_preparation_time    1898 non-null int64\n",
      "delivery_time            1898 non-null int64\n",
      "dtypes: float64(1), int64(4), object(4)\n",
      "memory usage: 133.5+ KB\n"
     ]
    },
    {
     "data": {
      "text/html": [
       "<div>\n",
       "<style scoped>\n",
       "    .dataframe tbody tr th:only-of-type {\n",
       "        vertical-align: middle;\n",
       "    }\n",
       "\n",
       "    .dataframe tbody tr th {\n",
       "        vertical-align: top;\n",
       "    }\n",
       "\n",
       "    .dataframe thead th {\n",
       "        text-align: right;\n",
       "    }\n",
       "</style>\n",
       "<table border=\"1\" class=\"dataframe\">\n",
       "  <thead>\n",
       "    <tr style=\"text-align: right;\">\n",
       "      <th></th>\n",
       "      <th>cost_of_the_order</th>\n",
       "      <th>food_preparation_time</th>\n",
       "      <th>delivery_time</th>\n",
       "    </tr>\n",
       "  </thead>\n",
       "  <tbody>\n",
       "    <tr>\n",
       "      <th>count</th>\n",
       "      <td>1898.000000</td>\n",
       "      <td>1898.000000</td>\n",
       "      <td>1898.000000</td>\n",
       "    </tr>\n",
       "    <tr>\n",
       "      <th>mean</th>\n",
       "      <td>164.988514</td>\n",
       "      <td>27.371970</td>\n",
       "      <td>24.161749</td>\n",
       "    </tr>\n",
       "    <tr>\n",
       "      <th>std</th>\n",
       "      <td>74.838121</td>\n",
       "      <td>4.632481</td>\n",
       "      <td>4.972637</td>\n",
       "    </tr>\n",
       "    <tr>\n",
       "      <th>min</th>\n",
       "      <td>44.700000</td>\n",
       "      <td>20.000000</td>\n",
       "      <td>15.000000</td>\n",
       "    </tr>\n",
       "    <tr>\n",
       "      <th>25%</th>\n",
       "      <td>120.800000</td>\n",
       "      <td>23.000000</td>\n",
       "      <td>20.000000</td>\n",
       "    </tr>\n",
       "    <tr>\n",
       "      <th>50%</th>\n",
       "      <td>141.400000</td>\n",
       "      <td>27.000000</td>\n",
       "      <td>25.000000</td>\n",
       "    </tr>\n",
       "    <tr>\n",
       "      <th>75%</th>\n",
       "      <td>222.975000</td>\n",
       "      <td>31.000000</td>\n",
       "      <td>28.000000</td>\n",
       "    </tr>\n",
       "    <tr>\n",
       "      <th>max</th>\n",
       "      <td>354.100000</td>\n",
       "      <td>35.000000</td>\n",
       "      <td>33.000000</td>\n",
       "    </tr>\n",
       "  </tbody>\n",
       "</table>\n",
       "</div>"
      ],
      "text/plain": [
       "       cost_of_the_order  food_preparation_time  delivery_time\n",
       "count        1898.000000            1898.000000    1898.000000\n",
       "mean          164.988514              27.371970      24.161749\n",
       "std            74.838121               4.632481       4.972637\n",
       "min            44.700000              20.000000      15.000000\n",
       "25%           120.800000              23.000000      20.000000\n",
       "50%           141.400000              27.000000      25.000000\n",
       "75%           222.975000              31.000000      28.000000\n",
       "max           354.100000              35.000000      33.000000"
      ]
     },
     "execution_count": 20,
     "metadata": {},
     "output_type": "execute_result"
    }
   ],
   "source": [
    "# Write your code here\n",
    "dfstat = df.copy()\n",
    "dfstat.info()\n",
    "dfstat = dfstat.drop(['order_id','customer_id'],axis=1)\n",
    "dfstat.describe()"
   ]
  },
  {
   "cell_type": "markdown",
   "metadata": {
    "id": "9YbSOR5wJY_T"
   },
   "source": [
    "#### Observations: \n",
    "Order Id and Customer Id are integers but can be easily dropped considering they are only Id and not having any impact on df even if we drop them. \n",
    "After that when we take statistics, it shows statistics of all integers/floats like Cost_Of_The_Order, Food_Preparation_Time and Delivery_Time.\n"
   ]
  },
  {
   "cell_type": "markdown",
   "metadata": {
    "id": "cw3l58z_JY_T"
   },
   "source": [
    "### **Question 5:** How many orders are not rated? (0.5 mark)"
   ]
  },
  {
   "cell_type": "code",
   "execution_count": 7,
   "metadata": {
    "colab": {
     "base_uri": "https://localhost:8080/",
     "height": 206
    },
    "executionInfo": {
     "elapsed": 395,
     "status": "ok",
     "timestamp": 1650188725422,
     "user": {
      "displayName": "JENNY THE DANCER",
      "userId": "14831577012867467664"
     },
     "user_tz": -330
    },
    "id": "mD5anR_xMHyX",
    "outputId": "5c69ecd4-ae0c-41a2-fe12-0ca9928c9a4e"
   },
   "outputs": [
    {
     "name": "stdout",
     "output_type": "stream",
     "text": [
      "Total Records WIth Rating Not Given :  736\n"
     ]
    }
   ],
   "source": [
    "# Write the code here\n",
    "df  = pd.read_csv(r\"C:\\Users\\njoshi3\\Desktop\\DS POC\\Zomato_order.csv\")\n",
    "df = df.astype({\"restaurant_name\":'category',\"cuisine_type\":'category',\"day_of_the_week\":'category'})\n",
    "#\n",
    "# Creating DFRATING dataframe having all records where \"rating = Not give\"\n",
    "#\n",
    "dfrating = df[df[\"rating\"]==\"Not given\"]\n",
    "#\n",
    "# Printing Shape, Total number of orders not Rated\n",
    "#\n",
    "print(\"Total Records WIth Rating Not Given : \",dfrating.shape[0])\n",
    "#\n",
    "# print(dfrating[dfrating[\"rating\"]==\"Not given\"].count())\n",
    "# print(dfrating.groupby([\"rating\"]).count())\n",
    "# From original Datafram DF\n",
    "# print(df[df[\"rating\"]==\"Not given\"].count())\n",
    "#"
   ]
  },
  {
   "cell_type": "markdown",
   "metadata": {
    "id": "5E0O_oviJY_T"
   },
   "source": [
    "#### Observations: \n",
    "736 out of 1898 are not rated which is more than 38%\n",
    "I am glad that finally I could fetch required result from all above commands!"
   ]
  },
  {
   "cell_type": "markdown",
   "metadata": {
    "id": "0RHZnugBJY_U"
   },
   "source": [
    "### **Question 6:** Explore all the variables and provide observations on the distributions of all the relevant variables in the dataset. Draw graphs for each variable and write your analysis. (5 marks)"
   ]
  },
  {
   "cell_type": "code",
   "execution_count": 31,
   "metadata": {
    "colab": {
     "base_uri": "https://localhost:8080/",
     "height": 667
    },
    "executionInfo": {
     "elapsed": 1408,
     "status": "ok",
     "timestamp": 1650191956971,
     "user": {
      "displayName": "JENNY THE DANCER",
      "userId": "14831577012867467664"
     },
     "user_tz": -330
    },
    "id": "rU5ZqISjJY_U",
    "outputId": "4ba1f1f7-c01a-4fbe-acc1-7f24f27aafb1"
   },
   "outputs": [
    {
     "name": "stdout",
     "output_type": "stream",
     "text": [
      "Masque            219\n",
      "Trishna           181\n",
      "A Reverie         174\n",
      "Shivering Hot     161\n",
      "The Table         132\n",
      "Name: restaurant_name, dtype: int64\n"
     ]
    },
    {
     "data": {
      "image/png": "[encoded data removed]",
      "text/plain": [
       "<Figure size 432x288 with 1 Axes>"
      ]
     },
     "metadata": {
      "needs_background": "light"
     },
     "output_type": "display_data"
    },
    {
     "name": "stdout",
     "output_type": "stream",
     "text": [
      "Punjabi     584\n",
      "Bengali     470\n",
      "Gujrati     298\n",
      "Kashmiri    215\n",
      "Tamil        77\n",
      "Name: cuisine_type, dtype: int64\n"
     ]
    },
    {
     "data": {
      "image/png": "[encoded data removed]",
      "text/plain": [
       "<Figure size 432x288 with 1 Axes>"
      ]
     },
     "metadata": {
      "needs_background": "light"
     },
     "output_type": "display_data"
    },
    {
     "name": "stdout",
     "output_type": "stream",
     "text": [
      "Weekend    1351\n",
      "Weekday     547\n",
      "Name: day_of_the_week, dtype: int64\n"
     ]
    },
    {
     "data": {
      "image/png": "[encoded data removed]",
      "text/plain": [
       "<Figure size 432x288 with 1 Axes>"
      ]
     },
     "metadata": {
      "needs_background": "light"
     },
     "output_type": "display_data"
    },
    {
     "name": "stdout",
     "output_type": "stream",
     "text": [
      "Not given    736\n",
      "5            588\n",
      "4            386\n",
      "3            188\n",
      "Name: rating, dtype: int64\n"
     ]
    },
    {
     "data": {
      "image/png": "[encoded data removed]",
      "text/plain": [
       "<Figure size 432x288 with 1 Axes>"
      ]
     },
     "metadata": {
      "needs_background": "light"
     },
     "output_type": "display_data"
    }
   ],
   "source": [
    "#Need to understand more as it's asking to draw graph on eash variable but not in any context\n",
    "# Write the code here\n",
    "df = pd.read_csv(r\"C:\\Users\\njoshi3\\Desktop\\DS POC\\Zomato_order.csv\")\n",
    "#----------Restaurant Name-------------------\n",
    "df['restaurant_name'].value_counts().plot(kind='barh',color='salmon')\n",
    "dfr=df['restaurant_name'].value_counts(ascending=False).head()\n",
    "print(dfr)\n",
    "dfr.head().plot(kind='barh',color=['firebrick', 'green', 'blue', 'black', 'red'],grid=True)\n",
    "plt.ylabel(\"Restaurant Name\")\n",
    "plt.xlabel(\"Number of Orders\")\n",
    "plt.title(\"Top 5 Restaurants By Number Of Orders\")\n",
    "plt.show()\n",
    "#df['restaurant_name'].value_counts(ascending=True).head().plot(kind='barh',color='salmon')\n",
    "#----------cuisine_type-------------------\n",
    "dfc=df['cuisine_type'].value_counts(ascending=False).head()\n",
    "print(dfc)\n",
    "dfc.head().plot(kind='barh',color=['firebrick', 'green', 'blue', 'black', 'red'],grid=True)\n",
    "plt.ylabel(\"Cuisine Name\")\n",
    "plt.xlabel(\"Number of Orders\")\n",
    "plt.title(\"Top 5 Cuisine By Number Of Orders\")\n",
    "plt.show()\n",
    "#df['cuisine_type'].value_counts(ascending=True).head().plot(kind='barh',color='salmon')\n",
    "#----------Day Of The Week-------------------\n",
    "dfd=df['day_of_the_week'].value_counts(ascending=False) #.head()\n",
    "print(dfd)\n",
    "dfd.head().plot(kind='barh',color=['firebrick', 'green', 'blue', 'black', 'red'],grid=True)\n",
    "plt.ylabel(\"Day Of The Week\")\n",
    "plt.xlabel(\"Number of Orders\")\n",
    "plt.title(\"Day Of The Week By Number Of Orders\")\n",
    "plt.show()\n",
    "#df['day_of_the_week'].value_counts(ascending=True).head().plot(kind='barh',color='salmon')\n",
    "#----------Rating-------------------\n",
    "dfrt=df['rating'].value_counts(ascending=False) #.head()\n",
    "print(dfrt)\n",
    "dfrt.head().plot(kind='barh',color=['firebrick', 'green', 'blue', 'black', 'red'],grid=True)\n",
    "plt.ylabel(\"Ratings\")\n",
    "plt.xlabel(\"Number of Orders\")\n",
    "plt.title(\"Ratings By Number Of Orders\")\n",
    "plt.show()\n",
    "#df['day_of_the_week'].value_counts(ascending=True).head().plot(kind='barh',color='salmon')"
   ]
  },
  {
   "cell_type": "markdown",
   "metadata": {
    "id": "K9CqA5H_JY_U"
   },
   "source": [
    "### Question 7: Write the code to find the top 5 restaurants that have received the highest number of orders. (1 mark)"
   ]
  },
  {
   "cell_type": "code",
   "execution_count": 32,
   "metadata": {
    "colab": {
     "base_uri": "https://localhost:8080/",
     "height": 238
    },
    "executionInfo": {
     "elapsed": 385,
     "status": "ok",
     "timestamp": 1650193260422,
     "user": {
      "displayName": "JENNY THE DANCER",
      "userId": "14831577012867467664"
     },
     "user_tz": -330
    },
    "id": "PaJZ3wlOJY_U",
    "outputId": "e69c6c02-61ac-4eb8-9696-b4e9d96ef713"
   },
   "outputs": [
    {
     "name": "stdout",
     "output_type": "stream",
     "text": [
      "Masque            219\n",
      "Trishna           181\n",
      "A Reverie         174\n",
      "Shivering Hot     161\n",
      "The Table         132\n",
      "Name: restaurant_name, dtype: int64\n"
     ]
    }
   ],
   "source": [
    "# Write the code here\n",
    "df = pd.read_csv(r\"C:\\Users\\njoshi3\\Desktop\\DS POC\\Zomato_order.csv\")\n",
    "#----------Restaurant Name-------------------\n",
    "#df['restaurant_name'].value_counts().plot(kind='barh',color='salmon')\n",
    "dfr=df['restaurant_name'].value_counts(ascending=False).head()\n",
    "print(dfr)"
   ]
  },
  {
   "cell_type": "markdown",
   "metadata": {
    "id": "tnjhWgUfJY_U"
   },
   "source": [
    "#### Observations:\n",
    "Masque got maximum orders 219, followed by Trishna 181, A Reverie 174, Shivering hot 161 and The Table 131"
   ]
  },
  {
   "cell_type": "markdown",
   "metadata": {
    "id": "gWPMqGq0JY_U"
   },
   "source": [
    "### Question 8: Write the code to find the most popular cuisine on weekends. (1 mark)"
   ]
  },
  {
   "cell_type": "code",
   "execution_count": 57,
   "metadata": {
    "id": "c-Xnus3VJY_U"
   },
   "outputs": [
    {
     "name": "stdout",
     "output_type": "stream",
     "text": [
      "cuisine_type\n",
      "Punjabi    415\n",
      "Name: customer_id, dtype: int64\n"
     ]
    }
   ],
   "source": [
    "# Write the code here\n",
    "df = pd.read_csv(r\"C:\\Users\\njoshi3\\Desktop\\DS POC\\Zomato_order.csv\")\n",
    "df = df.astype({\"restaurant_name\":'category',\"cuisine_type\":'category',\"day_of_the_week\":'category'})\n",
    "dfc = df.copy()\n",
    "dfc = dfc[dfc['day_of_the_week']==\"Weekend\"]\n",
    "dfc = dfc.groupby('cuisine_type')['customer_id'].count().sort_values(ascending=False)\n",
    "print(dfc.head(1))"
   ]
  },
  {
   "cell_type": "code",
   "execution_count": 121,
   "metadata": {},
   "outputs": [
    {
     "name": "stdout",
     "output_type": "stream",
     "text": [
      "Top 5 Popular Cuisine Type and Order Counts :\n",
      "Punjabi     415\n",
      "Bengali     335\n",
      "Gujrati     207\n",
      "Kashmiri    163\n",
      "Tamil        53\n",
      "Name: cuisine_type, dtype: int64\n",
      "Most Popular Punjabi Restaurant Name and Order Counts :\n",
      "Masque    145\n",
      "Name: restaurant_name, dtype: int64\n"
     ]
    },
    {
     "name": "stderr",
     "output_type": "stream",
     "text": [
      "C:\\ProgramData\\Anaconda3\\lib\\site-packages\\ipykernel_launcher.py:8: UserWarning: Boolean Series key will be reindexed to match DataFrame index.\n",
      "  \n"
     ]
    }
   ],
   "source": [
    "df = pd.read_csv(r\"C:\\Users\\njoshi3\\Desktop\\DS POC\\Zomato_order.csv\")\n",
    "df = df.astype({\"restaurant_name\":'category',\"cuisine_type\":'category',\"day_of_the_week\":'category'})\n",
    "#MOST Popular Cuisine = Groupby day_of_the_week and highest order no\n",
    "#dfweekend = df['cuisine_type'][df['day_of_the_week']=='Weekend']\n",
    "dfweekend = df[df['day_of_the_week']=='Weekend']\n",
    "print(\"Top 5 Popular Cuisine Type and Order Counts :\")\n",
    "print(dfweekend['cuisine_type'].value_counts(ascending=False).head(5))\n",
    "dfpunjabi = dfweekend[df['cuisine_type']==\"Punjabi\"]\n",
    "print(\"Most Popular Punjabi Restaurant Name and Order Counts :\")\n",
    "print(dfpunjabi['restaurant_name'].value_counts(ascending=False).head(1))"
   ]
  },
  {
   "cell_type": "markdown",
   "metadata": {
    "id": "bpQ270TUJY_U"
   },
   "source": [
    "#### Observations:\n",
    "Punjabi is most popular cuisine type on weekend considering we get 415 records; highest from others.\n",
    "And most popular Punjabi Restaurant Name is \"Masque\" with 145 order in weekend."
   ]
  },
  {
   "cell_type": "markdown",
   "metadata": {
    "id": "88xgTqkxJY_U"
   },
   "source": [
    "### Question 9: Write the code to find the number of total orders where the cost is above 200 INR. What is the percentage of such orders in the dataset?  (1 mark)"
   ]
  },
  {
   "cell_type": "code",
   "execution_count": 154,
   "metadata": {
    "colab": {
     "base_uri": "https://localhost:8080/"
    },
    "executionInfo": {
     "elapsed": 368,
     "status": "ok",
     "timestamp": 1650193535261,
     "user": {
      "displayName": "JENNY THE DANCER",
      "userId": "14831577012867467664"
     },
     "user_tz": -330
    },
    "id": "OTpHyTdzJY_U",
    "outputId": "3f0c0d3b-b417-4432-851c-e4e12f4b7c8b"
   },
   "outputs": [
    {
     "name": "stdout",
     "output_type": "stream",
     "text": [
      "Total Number Of Orders : 1898\n",
      "Total Number Of Orders Above Rs 200 : 555\n",
      "Percentage Of Orders Above Rs 200 Order : 29.24130663856691\n"
     ]
    }
   ],
   "source": [
    "# Write the code here\n",
    "#df.cost_of_the_order.max\n",
    "df  = pd.read_csv(r\"C:\\Users\\njoshi3\\Desktop\\DS POC\\Zomato_order.csv\")\n",
    "totalorders = df.shape[0]\n",
    "above200 = df[df['cost_of_the_order']>200].shape[0]\n",
    "print(\"Total Number Of Orders :\",totalorders)\n",
    "print(\"Total Number Of Orders Above Rs 200 :\",above200)\n",
    "print(\"Percentage Of Orders Above Rs 200 Order :\",(above200/totalorders)*100)"
   ]
  },
  {
   "cell_type": "markdown",
   "metadata": {
    "id": "77KNAC5zJY_U"
   },
   "source": [
    "#### Observations:\n",
    "Total Number Of Orders : 1898\n",
    "Total Number Of Orders Above Rs 200 : 555\n",
    "Percentage Of Orders Above Rs 200 Order : 29.24130663856691"
   ]
  },
  {
   "cell_type": "markdown",
   "metadata": {
    "id": "HFyHn7hsJY_V"
   },
   "source": [
    "### Question 10: Write the code to find the mean delivery time based on this dataset. (1 mark)"
   ]
  },
  {
   "cell_type": "code",
   "execution_count": 80,
   "metadata": {
    "colab": {
     "base_uri": "https://localhost:8080/"
    },
    "executionInfo": {
     "elapsed": 411,
     "status": "ok",
     "timestamp": 1650196393901,
     "user": {
      "displayName": "JENNY THE DANCER",
      "userId": "14831577012867467664"
     },
     "user_tz": -330
    },
    "id": "cyFL13hNJY_V",
    "outputId": "da957d67-519b-41f2-b89d-e885077c050c"
   },
   "outputs": [
    {
     "data": {
      "text/plain": [
       "24.161749209694417"
      ]
     },
     "execution_count": 80,
     "metadata": {},
     "output_type": "execute_result"
    }
   ],
   "source": [
    "# Write the code here\n",
    "df.delivery_time.mean()"
   ]
  },
  {
   "cell_type": "markdown",
   "metadata": {
    "id": "F35SRV-HJY_V"
   },
   "source": [
    "#### Observations:\n",
    "Mean Delivery Time from all the orders is 24.16; means each delivery is done before 25 minutes."
   ]
  },
  {
   "cell_type": "markdown",
   "metadata": {
    "id": "48IjaOuDJY_V"
   },
   "source": [
    "### Question 11: Suppose the company has decided to give a free coupon of 150 INR to the customer who has spent the maximum amount on a single order. Write the code to find the ID of the customer along with the order details. (1 mark)"
   ]
  },
  {
   "cell_type": "code",
   "execution_count": 88,
   "metadata": {},
   "outputs": [
    {
     "name": "stdout",
     "output_type": "stream",
     "text": [
      "Cost Of Order Maximum : 354.1\n",
      "     order_id  customer_id restaurant_name cuisine_type  cost_of_the_order  \\\n",
      "573   1477814        62359         Bukhara         Goan              354.1   \n",
      "\n",
      "    day_of_the_week rating  food_preparation_time  delivery_time  \n",
      "573         Weekday      4                     21             29  \n",
      "--------- Or--------\n",
      "     order_id  customer_id restaurant_name cuisine_type  cost_of_the_order  \\\n",
      "573   1477814        62359         Bukhara         Goan              354.1   \n",
      "\n",
      "    day_of_the_week rating  food_preparation_time  delivery_time  \n",
      "573         Weekday      4                     21             29  \n",
      "--------- Or--------\n",
      "Customer Id For Max Order Value : 573    62359\n",
      "Name: customer_id, dtype: int64\n"
     ]
    }
   ],
   "source": [
    "#write the code here\n",
    "df = pd.read_csv(r\"C:\\Users\\njoshi3\\Desktop\\DS POC\\Zomato_order.csv\") \n",
    "df = df.astype({\"restaurant_name\":'category',\"cuisine_type\":'category',\"day_of_the_week\":'category'})\n",
    "df['cost_of_the_order'].nlargest(n=1)\n",
    "dflargest = df['cost_of_the_order'].max()\n",
    "print(\"Cost Of Order Maximum :\",dflargest)\n",
    "# Now, fetching other details of largest order\n",
    "print(df[df['cost_of_the_order']==df['cost_of_the_order'].max()])\n",
    "print(\"--------- Or--------\")\n",
    "print(df[df['cost_of_the_order']==dflargest])\n",
    "print(\"--------- Or--------\")\n",
    "maxcustid = df['customer_id'][df['cost_of_the_order']==dflargest]\n",
    "print(\"Customer Id For Max Order Value :\",maxcustid)\n",
    "#Why the 573 (record no may be) is getting displayed all the time ?"
   ]
  },
  {
   "cell_type": "markdown",
   "metadata": {
    "id": "9tWVwfX6JY_V"
   },
   "source": [
    "#### Observations:\n",
    "The biggest order value is 354.1 Rs. Placed by customer id 62359 at Bukhara Restaurant for Goan cuisine type in weekday."
   ]
  },
  {
   "cell_type": "markdown",
   "metadata": {
    "id": "YLkMf09YJY_V"
   },
   "source": [
    "### Question 12: Suppose the company wants to provide a promotional offer in the advertisement of the restaurants. The condition to get the offer is that the restaurants must have a rating count of more than 50 and the average rating should be greater than 4. Write the code to find the restaurants fulfilling the criteria to get the promotional offer. (2 marks)"
   ]
  },
  {
   "cell_type": "markdown",
   "metadata": {
    "id": "10uryUMhJY_V"
   },
   "source": [
    "#### Observations:"
   ]
  },
  {
   "cell_type": "code",
   "execution_count": 84,
   "metadata": {
    "id": "0M_QDvbYJY_V"
   },
   "outputs": [
    {
     "name": "stdout",
     "output_type": "stream",
     "text": [
      "restaurant_name            rating\n",
      "Masque                     5         60\n",
      "The Table                  5         53\n",
      "Trishna                    5         51\n",
      "Masque                     4         50\n",
      "Shivering Hot              5         44\n",
      "A Reverie                  5         44\n",
      "Trishna                    4         42\n",
      "A Reverie                  4         39\n",
      "Wasabi                     5         35\n",
      "Shivering Hot              4         33\n",
      "Bomra's                    5         32\n",
      "Mughal Mahal               5         32\n",
      "Olive Qutub                5         27\n",
      "Bukhara                    5         26\n",
      "Bomra's                    4         25\n",
      "Megu                       5         25\n",
      "Masque                     3         23\n",
      "A Reverie                  3         23\n",
      "Annamaya                   5         23\n",
      "Mughal Mahal               4         21\n",
      "The Table                  4         21\n",
      "Karavalli                  5         21\n",
      "Annamaya                   4         21\n",
      "Gunpowder                  5         19\n",
      "Toast & Tonic              5         17\n",
      "Trishna                    3         17\n",
      "Shivering Hot              3         16\n",
      "Bomra's                    3         16\n",
      "Bomra's Bar & Grill        5         15\n",
      "Gunpowder                  4         14\n",
      "                                     ..\n",
      "Your Destination for Food  3          3\n",
      "Balthazar Boulangerie      4          2\n",
      "Bomra's Bar & Grill        3          2\n",
      "Balthazar Boulangerie      5          2\n",
      "Kanoyama                   5          2\n",
      "The Loop                   5          2\n",
      "Hot Kitchen                5          2\n",
      "Haveli Indian Restaurant   3          2\n",
      "The Loop                   4          1\n",
      "Philippe Chow              5          1\n",
      "Lucky Strike               4          1\n",
      "Amma                       4          1\n",
      "                           5          1\n",
      "Kori Restaurant and Bar    4          1\n",
      "Toast & Tonic (archived)   4          1\n",
      "Balthazar Boulangerie      3          1\n",
      "Haandi                     4          1\n",
      "The Odeon                  3          1\n",
      "Chote Nawab                5          1\n",
      "Go! Go! Curry!             4          1\n",
      "Benihana                   4          1\n",
      "                           5          1\n",
      "Bhatti Indian Grill        5          1\n",
      "Go! Go! Curry!             3          1\n",
      "Galli Restaurant           5          1\n",
      "Frank Restaurant           4          1\n",
      "Five Leaves                5          1\n",
      "                           4          1\n",
      "The Odeon                  4          1\n",
      "The MasalaWala             4          1\n",
      "Name: rating, Length: 92, dtype: int64\n"
     ]
    },
    {
     "name": "stderr",
     "output_type": "stream",
     "text": [
      "C:\\ProgramData\\Anaconda3\\lib\\site-packages\\ipykernel_launcher.py:6: SettingWithCopyWarning: \n",
      "A value is trying to be set on a copy of a slice from a DataFrame.\n",
      "Try using .loc[row_indexer,col_indexer] = value instead\n",
      "\n",
      "See the caveats in the documentation: http://pandas.pydata.org/pandas-docs/stable/indexing.html#indexing-view-versus-copy\n",
      "  \n"
     ]
    }
   ],
   "source": [
    "# Write the code here\n",
    "df = pd.read_csv(r\"C:\\Users\\njoshi3\\Desktop\\DS POC\\Zomato_order.csv\")\n",
    "df = df.astype({\"restaurant_name\":'category',\"cuisine_type\":'category',\"day_of_the_week\":'category'})\n",
    "dfrating = df.copy()\n",
    "dfrating = df.loc[df['rating']!=\"Not given\"]\n",
    "dfrating['ratcount']=0\n",
    "dfrating.head(5)    \n",
    "dfrestcnts = dfrating.groupby(['restaurant_name','rating'])['rating'].count().sort_values(ascending=False)\n",
    "print(dfrestcnts)\n",
    "#dfc = dfc.groupby('cuisine_type')['customer_id'].count().sort_values(ascending=False)"
   ]
  },
  {
   "cell_type": "markdown",
   "metadata": {
    "id": "1gvWBkRUJY_V"
   },
   "source": [
    "### Question 13: Suppose the company charges the restaurant 25% on the orders having cost greater than 200 INR and 15% on the orders having cost greater than 50 INR. Write the code to find the net revenue generated on all the orders given in the dataset. (2 marks)"
   ]
  },
  {
   "cell_type": "code",
   "execution_count": 183,
   "metadata": {
    "id": "rEjbnTNEJY_W"
   },
   "outputs": [
    {
     "name": "stdout",
     "output_type": "stream",
     "text": [
      "Total Revenue Generated : 61727.14\n"
     ]
    }
   ],
   "source": [
    "# Write the code here\n",
    "df = pd.read_csv(r\"C:\\Users\\njoshi3\\Desktop\\DS POC\\Zomato_order.csv\") \n",
    "#df['revenue'] = df.apply(lambda row: row.cost_of_the_order*0.25 if df['cost_of_the_order']>200 else row.cost_of_the_order*0.15)\n",
    "#df['revenue'] = lambda df['cost_of_the_order']: df['cost_of_the_order']*0.25 if df['cost_of_the_order']>200 else df['cost_of_the_order']*0.15\n",
    "#Getting INVALID SYNTAX\n",
    "#df['revenue'] = lambda df: df['cost_of_the_order']*0.25 if df['cost_of_the_order']>200 else df['cost_of_the_order']*0.15\n",
    "#No SYNTAX Error, but result is not appropriate\n",
    "df['revenue'] = np.where(df['cost_of_the_order']>200,df['cost_of_the_order']*0.25,df['cost_of_the_order']*0.15)\n",
    "print(\"Total Revenue Generated :\",df['revenue'].sum())"
   ]
  },
  {
   "cell_type": "markdown",
   "metadata": {
    "id": "XHCEJgH0JY_W"
   },
   "source": [
    "#### Observations:\n",
    "Total revenue generated based on 25% and 15% revenue rate is 61727.14.\n",
    "Column addtion based on Lambda function didn't work :), need to resolve."
   ]
  },
  {
   "cell_type": "markdown",
   "metadata": {
    "id": "pRlVW-oeJY_W"
   },
   "source": [
    "### Question 14: Suppose the company wants to analyze the total time required to deliver the food. Write the code to find out the percentage of orders that have more than 60 minutes of total delivery time. (2 marks)\n",
    "\n",
    "Note: The total delivery time is the summation of the food preparation time and delivery time. "
   ]
  },
  {
   "cell_type": "code",
   "execution_count": 90,
   "metadata": {
    "id": "zxoTrxfLJY_W"
   },
   "outputs": [
    {
     "data": {
      "text/plain": [
       "restaurant_name\n",
       "A Reverie                    72.016667\n",
       "Alidoro                       0.366667\n",
       "Amma                          1.433333\n",
       "Annamaya                     29.516667\n",
       "Aurora                        0.733333\n",
       "Balthazar Boulangerie         4.266667\n",
       "Bareburger                   11.050000\n",
       "Benihana                      2.033333\n",
       "Bhatti Indian Grill           0.750000\n",
       "Bomra's                      47.483333\n",
       "Bomra's Bar & Grill          17.166667\n",
       "Bomra's Izakaya              11.350000\n",
       "Bukhara                      28.450000\n",
       "Bukhara Tribeca               9.500000\n",
       "Chote Nawab                   0.500000\n",
       "Five Leaves                   1.483333\n",
       "Frank Restaurant              0.516667\n",
       "Friend of a Farmer            1.316667\n",
       "Galli Restaurant              0.266667\n",
       "Go! Go! Curry!                1.183333\n",
       "Gunpowder                    28.966667\n",
       "Haandi                        1.016667\n",
       "Haveli Indian Restaurant      0.833333\n",
       "Hot Kitchen                   0.883333\n",
       "Junoon                        2.216667\n",
       "Kanoyama                      1.216667\n",
       "Karavalli                    26.016667\n",
       "Kori Restaurant and Bar       0.433333\n",
       "Lucky Strike                  0.350000\n",
       "Market Table                  0.283333\n",
       "Masque                       90.016667\n",
       "Megu                         25.850000\n",
       "Mughal Mahal                 38.633333\n",
       "Olive Qutub                  30.283333\n",
       "Philippe Chow                 0.500000\n",
       "Rubirosa                     14.600000\n",
       "Saravanaa Bhavan              2.250000\n",
       "Shivering Hot                66.083333\n",
       "The Loop                      1.750000\n",
       "The MasalaWala                0.250000\n",
       "The Odeon                     1.183333\n",
       "The Table                    53.333333\n",
       "Toast & Tonic                16.866667\n",
       "Toast & Tonic (archived)      1.350000\n",
       "Trishna                      70.200000\n",
       "Wasabi                       32.633333\n",
       "Your Destination for Food    14.933333\n",
       "Name: delivery_time, dtype: float64"
      ]
     },
     "execution_count": 90,
     "metadata": {},
     "output_type": "execute_result"
    }
   ],
   "source": [
    "# Write the code here\n",
    "df  = pd.read_csv(r\"C:\\Users\\njoshi3\\Desktop\\DS POC\\Zomato_order.csv\")\n",
    "df.groupby(['restaurant_name'])['delivery_time'].sum()/60"
   ]
  },
  {
   "cell_type": "markdown",
   "metadata": {
    "id": "iqzBXn2yJY_W"
   },
   "source": [
    "#### Observations:\n"
   ]
  },
  {
   "cell_type": "markdown",
   "metadata": {
    "id": "bUd6cYpPJY_W"
   },
   "source": [
    "### Question 15: Suppose the company wants to analyze the delivery time of the orders on weekdays and weekends. Write the code to find the mean delivery time on weekdays and weekends. Write your observations on the results. (2 marks)"
   ]
  },
  {
   "cell_type": "code",
   "execution_count": 99,
   "metadata": {
    "id": "pIU5xZZ6JY_W"
   },
   "outputs": [
    {
     "ename": "SyntaxError",
     "evalue": "invalid syntax (<ipython-input-99-57d3731d57c7>, line 3)",
     "output_type": "error",
     "traceback": [
      "\u001b[1;36m  File \u001b[1;32m\"<ipython-input-99-57d3731d57c7>\"\u001b[1;36m, line \u001b[1;32m3\u001b[0m\n\u001b[1;33m    df.groupby['day_of_the_week']delivery_time.mean()\u001b[0m\n\u001b[1;37m                                             ^\u001b[0m\n\u001b[1;31mSyntaxError\u001b[0m\u001b[1;31m:\u001b[0m invalid syntax\n"
     ]
    }
   ],
   "source": [
    "# Write the code here\n",
    "df  = pd.read_csv(r\"C:\\Users\\njoshi3\\Desktop\\DS POC\\Zomato_order.csv\")\n",
    "df.groupby['day_of_the_week']delivery_time.mean()"
   ]
  },
  {
   "cell_type": "markdown",
   "metadata": {
    "id": "8H-ODxbVJY_W"
   },
   "source": [
    "#### Observations:\n"
   ]
  },
  {
   "cell_type": "markdown",
   "metadata": {
    "id": "17roJywaJY_W"
   },
   "source": [
    "### Conclusion and Recommendations"
   ]
  },
  {
   "cell_type": "markdown",
   "metadata": {
    "id": "ZdX2Wz4FJY_W"
   },
   "source": [
    "### **Question 16:** Write the conclusions and business recommendations derived from the analysis. (4 marks)"
   ]
  },
  {
   "cell_type": "markdown",
   "metadata": {
    "id": "psIoustwJY_W"
   },
   "source": [
    "#### Key Insights:"
   ]
  }
 ],
 "metadata": {
  "colab": {
   "collapsed_sections": [],
   "name": "Zomato Question Paper.ipynb",
   "provenance": []
  },
  "kernelspec": {
   "display_name": "Python 3",
   "language": "python",
   "name": "python3"
  },
  "language_info": {
   "codemirror_mode": {
    "name": "ipython",
    "version": 3
   },
   "file_extension": ".py",
   "mimetype": "text/x-python",
   "name": "python",
   "nbconvert_exporter": "python",
   "pygments_lexer": "ipython3",
   "version": "3.7.3"
  }
 },
 "nbformat": 4,
 "nbformat_minor": 1
}
