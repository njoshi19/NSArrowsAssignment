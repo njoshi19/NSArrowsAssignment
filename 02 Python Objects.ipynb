{
 "cells": [
  {
   "cell_type": "code",
   "execution_count": null,
   "metadata": {},
   "outputs": [],
   "source": [
    "#1. Take a number as an input from the user and print if it is a palindrome or not.\n",
    "palnum=int(input(\"Enter Integer To Check If Its' Palindrome Or Not : \"))\n",
    "text=str(palnum)\n",
    "indexno=0\n",
    "isPalindrome=True\n",
    "rlentxt=lentxt=len(text)\n",
    "for i in range(0,lentxt):\n",
    "#    print(\"Indexno:\",indexno)\n",
    "#    print(\"rlentxt:\",rlentxt)\n",
    "    if(isPalindrome==False):\n",
    "#        print(\"Break\")\n",
    "        break\n",
    "    if(text[indexno]==text[rlentxt-1]):\n",
    "        isPalindrome=True\n",
    "#        print(isPalindrome)\n",
    "#        print(text[indexno],end=\"-\")\n",
    "#        print(text[rlentxt-1])\n",
    "    else:\n",
    "        isPalindrome=False\n",
    "        print(isPalindrome)\n",
    "        print(text[indexno],\"-\",text[rlentxt-1])\n",
    "    indexno=indexno+1\n",
    "    rlentxt=rlentxt-1\n",
    "print(\"Is Number\",palnum,\"Palindrome ?\",isPalindrome)\n",
    "print()"
   ]
  },
  {
   "cell_type": "code",
   "execution_count": 1,
   "metadata": {},
   "outputs": [
    {
     "name": "stdout",
     "output_type": "stream",
     "text": [
      "Enter Text To Check Palindrome :Nitin\n",
      "Nitin\n",
      "Nitin\n",
      "NITIN is Palindrome\n",
      "Thank You\n"
     ]
    }
   ],
   "source": [
    "#1. Take a number as an input from the user and print if it is a palindrome or not.\n",
    "paltext=input(\"Enter Text To Check Palindrome :\")\n",
    "print(paltext)\n",
    "paltext=paltext.replace(\" \",\"\")\n",
    "print(paltext)\n",
    "paltext=paltext.upper()\n",
    "if(len(paltext)>1):\n",
    "    if(paltext[:]==paltext[::-1]):\n",
    "        print(paltext,\"is Palindrome\")\n",
    "    else:\n",
    "        print(paltext,\"is NOT Palindrome\")\n",
    "else:\n",
    "    print(\"Text Entered Is Too Small\")\n",
    "print(\"Thank You\")\n"
   ]
  },
  {
   "cell_type": "code",
   "execution_count": null,
   "metadata": {},
   "outputs": [],
   "source": [
    "#2. Replace the \n",
    "#● space in between the string with ‘_’, \n",
    "#● remove all the leading and trailing ‘/’ s, \n",
    "#str= //This is a practice question//”.\n",
    "str=\"//This is a practicce question//\"\n",
    "print(str)\n",
    "str=str.replace(\" \",\"_\")\n",
    "print(str)\n",
    "str=str.strip(\"/\")\n",
    "print(str)"
   ]
  },
  {
   "cell_type": "code",
   "execution_count": null,
   "metadata": {},
   "outputs": [],
   "source": [
    "#3. Grading system of a school gives bonus marks to students who score above 58% and less than 60% to make \n",
    "#   their percentage rounded to 60%. Percentage marks of the students are as below:\n",
    "# ● student1:120 out of 200 \n",
    "# ● student2:118.5 out of 200 \n",
    "# ● student3: 117.5 out of 200 \n",
    "# Calculate the percentage of the score and the bonus marks that should be given to make their overall percentage as 60% \n",
    "indexno=0\n",
    "overallperc=60\n",
    "markslist=[120,118.5,117.5,116,115.5]\n",
    "marks60=200*60/100\n",
    "marks58=200*58/100\n",
    "print(\"For 60%, Marks Required\",marks60,end=\" ~~~ \")\n",
    "print(\"For 58%, Marks Required\",marks58)\n",
    "for i in markslist:\n",
    "    if (i>=marks60):\n",
    "        print(\"Student\",indexno+1,\"already scored\",i*100/200)\n",
    "    elif (i<marks58):\n",
    "        print(\"Student\",indexno+1,\"has scored lower than\",marks58,\"\\b/58% so no bonus.\")\n",
    "    else:\n",
    "        addmarks=marksreq-i\n",
    "        print(\"Student\",indexno+1,\"needs\",addmarks,\"to make it 60%\")\n",
    "    indexno=indexno+1\n",
    "print(\"Thank You\")"
   ]
  },
  {
   "cell_type": "code",
   "execution_count": null,
   "metadata": {},
   "outputs": [],
   "source": [
    "#4. list=[10,25,-25,-15,-10,35,-22,-12,24,16]\n",
    "#● Find the positive integers and add them \n",
    "#● Find the negative integers and add them\n",
    "sumint=sumneg=0\n",
    "list1=[10,25,-25,-15,-10,35,-22,-12,24,16]\n",
    "for i in list1:\n",
    "    if (i==0):\n",
    "        break\n",
    "    if (i>0):\n",
    "        sumint=sumint+i\n",
    "    else:\n",
    "        sumneg=sumneg+i\n",
    "    print(sumint,sumneg)\n",
    "print(\"Thank You\")"
   ]
  },
  {
   "cell_type": "code",
   "execution_count": null,
   "metadata": {},
   "outputs": [],
   "source": [
    "# 5.Take a 3 digit number as input from the user and \n",
    "# check if the entered number is an Armstrong number or not.\n",
    "# Armstrong number : An Armstrong number of three digits is an integer such that \n",
    "# the sum of the cubes of its digits is equal to the number itself. eg: 153\n",
    "# 1**3 = 1 + 5**3 = 125 + 3**3 = 27 === So sum 1+125+27=153\n",
    "# In the range 0 to 999 there exists six Armstrong numbers - 0, 1, 153, 370, 371 and 407.\n",
    "# Similarly, in the case of 4 digits, 1634 is an Armstrong Number as, \n",
    "# In the range 1000 to 9999 there are three Armstrong numbers - 1634, 8208 and 9474.\n",
    "numbercheck=-1\n",
    "count=find_digit=armstrongnumber=0\n",
    "#\n",
    "#If user entering negative value, we loop until enters +ve value\n",
    "#\n",
    "#If we want to restrict user for three digit only, then condition will be numbercheck<0 or numbercheck>999\n",
    "#\n",
    "while(numbercheck<0):\n",
    "    numbercheck=int(input(\"Enter Integer Number To Check If It's ARMSTRONG Number Or Not : \"))\n",
    "    enterednum=numbercheck\n",
    "#\n",
    "#Count Number Of Digits In Number To Calculate Power\n",
    "#\n",
    "while(numbercheck!=0):\n",
    "    numbercheck=numbercheck // 10\n",
    "    count+=1\n",
    "print(\"Entered Number \",enterednum,\"Digits Are :\",count)\n",
    "numbercheck=enterednum\n",
    "while(numbercheck>0):\n",
    "    find_digit=numbercheck % 10\n",
    "    armstrongnumber=(find_digit**count)+armstrongnumber\n",
    "    numbercheck=numbercheck//10\n",
    "    print(\"Entered Num\",enterednum,\"Find Digit:\",find_digit,\"Armstrong Check In-Progress :\",armstrongnumber)\n",
    "if(enterednum==armstrongnumber):\n",
    "    print(\"Entered Number\",enterednum,\"is Armstrong Number :\",armstrongnumber)\n",
    "else:\n",
    "    print(\"Entered Number \",enterednum,\"is not Armstrong Number\")\n",
    "print(\"Thank You\")"
   ]
  },
  {
   "cell_type": "code",
   "execution_count": null,
   "metadata": {},
   "outputs": [],
   "source": [
    "# 6. date1=’28-3-2022 // date2=’01-01-2022’ // date3=’02-02-2021’ \n",
    "# Separate the dates according to date, month and year and store the output in a 3 lists:\n",
    "# 1) date_list, 2) month_list and 3) year_list accordingly..\n",
    "#'%m/%d/%y %H:%M:%S'\n",
    "strdatelist=[\"28-03-2025\",\"01-12-2024\",\"28-02-2023\"]\n",
    "yearlist=[]\n",
    "mthlist=[]\n",
    "datelist=[]\n",
    "for i in strdatelist:\n",
    "    yearlist.append(i.split(\"-\")[2])\n",
    "    mthlist.append(i.split(\"-\")[1])\n",
    "    datelist.append(i.split(\"-\")[0])\n",
    "print(yearlist)\n",
    "print(mthlist)\n",
    "print(datelist)"
   ]
  },
  {
   "cell_type": "code",
   "execution_count": null,
   "metadata": {},
   "outputs": [],
   "source": [
    "from datetime import datetime\n",
    "datetime_str = \"09-19-18\"\n",
    "datetime_object = datetime.strptime(datetime_str, '%M/%d/%y')\n",
    "print(type(datetime_object))\n",
    "print(datetime_object)\n",
    "print(datetime_object.day)\n",
    "print(datetime_object.month)\n",
    "print(datetime_object.year)"
   ]
  },
  {
   "cell_type": "code",
   "execution_count": 25,
   "metadata": {},
   "outputs": [
    {
     "name": "stdout",
     "output_type": "stream",
     "text": [
      "[1, 4, 9, 16, 25, 36, 49, 64, 81, 100]\n",
      "[1, 4, 9, 16, 25, 36, 49, 64, 81, 100]\n"
     ]
    }
   ],
   "source": [
    "# 7.Store the square of numbers from 1 to 10 in a list.\n",
    "squarelist=[]\n",
    "for i in range(1,11):\n",
    "    squarelist.append(i**2)\n",
    "print(squarelist)\n",
    "#comprehensive way\n",
    "squarelist=[]\n",
    "squarelist=[(i**2) for i in range(11) if(i!=0)]\n",
    "print(squarelist)"
   ]
  },
  {
   "cell_type": "code",
   "execution_count": null,
   "metadata": {},
   "outputs": [],
   "source": [
    "# 8. Check if the element is present in the list \n",
    "# product = [‘Jeans’,’Shirt’,’Trouser’,’T-shirt’,’Shoes’] \n",
    "# element=’Shirt’ \n",
    "product=[\"Jeans\",\"Shirt\",\"Trouser\",\"T-Shirt\",\"Shoes\"]\n",
    "element=\"Shirt\"\n",
    "isElement=element in product\n",
    "print(isElement)"
   ]
  },
  {
   "cell_type": "code",
   "execution_count": null,
   "metadata": {},
   "outputs": [],
   "source": [
    "# 9. Perform the following actions on the above list: \n",
    "# ● Remove the element from the list \n",
    "# ● After removing the elements from the list slice it into half. \n",
    "product=[\"Jeans\",\"Shirt\",\"Trouser\",\"T-Shirt\",\"Shoes\"]\n",
    "listlength=len(product)\n",
    "print(listlength)\n",
    "print(product)\n",
    "element_to_delete=elenum=0\n",
    "while(elenum<1 or elenum>5):\n",
    "    elenum=int(input(\"Enter Element Number To Remove From Above List (<5):\"))\n",
    "element_to_delete=elenum-1\n",
    "print(\"Element To Delete : \",product[element_to_delete])\n",
    "del product[element_to_delete]\n",
    "listlength=len(product)\n",
    "slicer=int(listlength/2)\n",
    "print(product)\n",
    "print(\"First Half  : \",product[:slicer],\"& Second Half : \",product[slicer:])"
   ]
  },
  {
   "cell_type": "code",
   "execution_count": 16,
   "metadata": {},
   "outputs": [
    {
     "name": "stdout",
     "output_type": "stream",
     "text": [
      "Average : 66.4\n",
      "Maximum : 85\n",
      "Minimum : 49\n",
      "[56, 65, 85, 77, 49]\n",
      "Sorted  : [49, 56, 65, 77, 85]\n",
      "[56, 65, 85, 77, 49]\n",
      "Reverse : [49, 77, 85, 65, 56]\n",
      "Sort()  : [49, 56, 65, 77, 85]\n",
      "Sorted  : [49, 56, 65, 77, 85]\n"
     ]
    }
   ],
   "source": [
    "# 10 Use the list and print \n",
    "# ● Average of the marks of student in 5 subjects \n",
    "# ● Highest marks \n",
    "# ● Lowest marks \n",
    "# marks=[56,65,85,77,49] \n",
    "marks=[56,65,85,77,49]\n",
    "print(\"Average :\",sum(marks)/len(marks))\n",
    "print(\"Maximum :\",max(marks))\n",
    "print(\"Minimum :\",min(marks))\n",
    "print(marks)\n",
    "print(\"Sorted  :\",sorted(marks))\n",
    "print(marks)\n",
    "marks.reverse()\n",
    "print(\"Reverse :\",marks)\n",
    "marks.sort()\n",
    "print(\"Sort()  :\",marks)\n",
    "print(\"Sorted  :\",sorted(marks))"
   ]
  },
  {
   "cell_type": "code",
   "execution_count": 19,
   "metadata": {},
   "outputs": [
    {
     "name": "stdout",
     "output_type": "stream",
     "text": [
      "[(1, 1), (1, 2), (3, 3)]\n",
      "[(3, 3), (1, 2), (1, 1)]\n"
     ]
    }
   ],
   "source": [
    "def sortSecond(val):\n",
    "    return val[1]\n",
    "#\n",
    "list1 = [(1, 2), (3, 3), (1, 1)]\n",
    "#  \n",
    "list1.sort(key = sortSecond) \n",
    "print(list1)\n",
    "#\n",
    "list1.sort(key = sortSecond, reverse = True)\n",
    "print(list1)"
   ]
  },
  {
   "cell_type": "code",
   "execution_count": 27,
   "metadata": {
    "scrolled": true
   },
   "outputs": [
    {
     "name": "stdout",
     "output_type": "stream",
     "text": [
      "Fibonacci Series & Number For :3\n",
      "Fibonancci Series For 3 is -> [0, 1, 1]\n",
      "Fibonancci Number For 3 is -> 1\n",
      "Using Fn [0, 1, 1, 2]\n"
     ]
    }
   ],
   "source": [
    "# 11 Write a python program for n-th Fibonacci number.\n",
    "# f(0)=0 and f(1)=1\n",
    "# f(n)=f(n-1)+f(n-2)...\n",
    "fbnlen=f0th=0\n",
    "f1st=1\n",
    "fbn=[]\n",
    "rang=int(input(\"Fibonacci Series & Number For :\"))\n",
    "for i in range(rang):\n",
    "    if(i==0):\n",
    "        fbn.append(0)\n",
    "    if(i==1):\n",
    "        fbn.append(1)\n",
    "    if(i>1):\n",
    "        fbn.append(fbn[i-1]+fbn[i-2])\n",
    "print(\"Fibonancci Series For\",rang,\"is ->\",fbn)\n",
    "print(\"Fibonancci Number For\",rang,\"is ->\",fbn[len(fbn)-1])\n",
    "#Using Function\n",
    "def fibonacci(n):\n",
    "    fbnlist=[]\n",
    "    for i in range(n+1):\n",
    "        if (i==0):\n",
    "            fbnlist.append(i)\n",
    "        if (i==1):\n",
    "            fbnlist.append(i)\n",
    "        if (i>1):\n",
    "            fbnlist.append(fbnlist[i-1]+fbnlist[i-2])\n",
    "    return fbnlist\n",
    "#\n",
    "print(\"Using Fn\",fibonacci(3))\n",
    "          "
   ]
  },
  {
   "cell_type": "code",
   "execution_count": 21,
   "metadata": {},
   "outputs": [
    {
     "name": "stdout",
     "output_type": "stream",
     "text": [
      "34\n"
     ]
    }
   ],
   "source": [
    "def Fibonacci(n):\n",
    "    if n<= 0:\n",
    "        print(\"Incorrect input\")\n",
    "    elif n == 1:\n",
    "        return 0\n",
    "    elif n == 2:\n",
    "        return 1\n",
    "    else:\n",
    "        return Fibonacci(n-1)+Fibonacci(n-2)\n",
    "#\n",
    "print(Fibonacci(10))"
   ]
  },
  {
   "cell_type": "code",
   "execution_count": 45,
   "metadata": {},
   "outputs": [
    {
     "name": "stdout",
     "output_type": "stream",
     "text": [
      "Tribonacci Series For 10 : [0, 1, 1, 2, 4, 7, 13, 24, 44, 81, 149]\n",
      "Tribonacci Number For 10 : 149\n"
     ]
    }
   ],
   "source": [
    "# 12. Write a python program for n-th Tribonacci number.\n",
    "# t(0)=0 and f(1)=1\n",
    "# t(n)=t(n-1)+t(n-2)+t(n-3)...\n",
    "# Series : 0, 1, 1, 2[0+1+1], 4[2+1+1], 7[4+2+1]....\n",
    "def fibonacci(n):\n",
    "    fbnlist=[]\n",
    "    for i in range(n+1):\n",
    "        if (i==0):\n",
    "            fbnlist.append(i)\n",
    "        if (i==1):\n",
    "            fbnlist.append(i)\n",
    "        if (i==2):\n",
    "            fbnlist.append(i-1)\n",
    "        if (i>2):\n",
    "            fbnlist.append(fbnlist[i-1]+fbnlist[i-2]+fbnlist[i-3])\n",
    "    return fbnlist,len(fbnlist)\n",
    "#\n",
    "rang=10\n",
    "fbseries,fbnum=fibonacci(rang)\n",
    "print(\"Tribonacci Series For\",rang,\":\",fbseries)\n",
    "print(\"Tribonacci Number For\",rang,\":\",fbseries[fbnum-1])"
   ]
  },
  {
   "cell_type": "code",
   "execution_count": 17,
   "metadata": {},
   "outputs": [
    {
     "name": "stdout",
     "output_type": "stream",
     "text": [
      "Original Text :\n",
      " How much wood would a woodchuck chuck if a woodchuck could chuck wood?\n",
      "He would chuck, he would, as much as he could, and chuck as much wood\n",
      "As a woodchuck would if a woodchuck could chuck wood \n",
      "\n",
      "Splitted Text :\n",
      " ['How', 'much', 'wood', 'would', 'a', 'woodchuck', 'chuck', 'if', 'a', 'woodchuck', 'could', 'chuck', 'wood?', 'He', 'would', 'chuck,', 'he', 'would,', 'as', 'much', 'as', 'he', 'could,', 'and', 'chuck', 'as', 'much', 'wood', 'As', 'a', 'woodchuck', 'would', 'if', 'a', 'woodchuck', 'could', 'chuck', 'wood'] \n",
      "\n",
      "Unique Word From Text :\n",
      " ['How', 'much', 'wood', 'would', 'a', 'woodchuck', 'chuck', 'if', 'could', 'wood?', 'He', 'chuck,', 'he', 'would,', 'as', 'could,', 'and', 'As']\n",
      "\n",
      " Dictionary Of Unique Word & Counts : {'How': 1, 'much': 3, 'wood': 3, 'would': 3, 'a': 4, 'woodchuck': 4, 'chuck': 4, 'if': 2, 'could': 2, 'wood?': 1, 'He': 1, 'chuck,': 1, 'he': 2, 'would,': 1, 'as': 3, 'could,': 1, 'and': 1, 'As': 1}\n"
     ]
    }
   ],
   "source": [
    "#13 Count the number of occurrences of each word in the string \n",
    "text = \"\"\"How much wood would a woodchuck chuck if a woodchuck could chuck wood?\n",
    "He would chuck, he would, as much as he could, and chuck as much wood\n",
    "As a woodchuck would if a woodchuck could chuck wood\"\"\"\n",
    "print(\"Original Text :\\n\",text,\"\\n\")\n",
    "wordndcount={}\n",
    "splittextlist=text.split()\n",
    "checklist=[]\n",
    "print(\"Splitted Text :\\n\",splittextlist,\"\\n\")\n",
    "for i in splittextlist:\n",
    "    if(i not in checklist):\n",
    "        counts=splittextlist.count(i)\n",
    "        wordndcount[i]=counts\n",
    "#        print(counts)\n",
    "        checklist.append(i)\n",
    "print(\"Unique Word From Text :\\n\",checklist)\n",
    "print(\"\\n\",\"Dictionary Of Unique Word & Counts :\",wordndcount)"
   ]
  },
  {
   "cell_type": "code",
   "execution_count": 31,
   "metadata": {},
   "outputs": [
    {
     "name": "stdout",
     "output_type": "stream",
     "text": [
      "['How', 'much', 'wood', 'would', 'a', 'woodchuck', 'chuck', 'if', 'could', 'wood?', 'He', 'chuck,', 'he', 'would,', 'as', 'could,', 'and', 'As']\n",
      "Even List : ['much', 'wood', 'if', 'He', 'chuck,', 'he', 'would,', 'as', 'could,', 'As']\n",
      "Odd List  : ['How', 'would', 'a', 'woodchuck', 'chuck', 'could', 'wood?', 'and']\n"
     ]
    }
   ],
   "source": [
    "# 14. From the above string print all the words whose length is even. \n",
    "print(checklist)\n",
    "oddlist=[]\n",
    "evenlist=[]\n",
    "evenlist=[i for i in checklist if(len(i)%2==0)]\n",
    "oddlist=[i for i in checklist if(len(i)%2!=0)]\n",
    "print(\"Even List :\",evenlist)\n",
    "print(\"Odd List  :\",oddlist)"
   ]
  },
  {
   "cell_type": "code",
   "execution_count": null,
   "metadata": {},
   "outputs": [],
   "source": []
  }
 ],
 "metadata": {
  "kernelspec": {
   "display_name": "Python 3",
   "language": "python",
   "name": "python3"
  },
  "language_info": {
   "codemirror_mode": {
    "name": "ipython",
    "version": 3
   },
   "file_extension": ".py",
   "mimetype": "text/x-python",
   "name": "python",
   "nbconvert_exporter": "python",
   "pygments_lexer": "ipython3",
   "version": "3.7.3"
  }
 },
 "nbformat": 4,
 "nbformat_minor": 2
}
